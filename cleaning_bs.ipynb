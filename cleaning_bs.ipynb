{
 "cells": [
  {
   "cell_type": "markdown",
   "id": "31f716df",
   "metadata": {},
   "source": [
    "<a id=\"TOP\"> </a>\n",
    "<div class=\"alert alert-box alert-info\">\n",
    "</div>\n",
    "\n",
    "***"
   ]
  },
  {
   "cell_type": "code",
   "execution_count": 1,
   "id": "d09e7bb1",
   "metadata": {},
   "outputs": [],
   "source": [
    "from env import get_setup"
   ]
  },
  {
   "cell_type": "code",
   "execution_count": 2,
   "id": "b12d7d9f",
   "metadata": {},
   "outputs": [
    {
     "name": "stdout",
     "output_type": "stream",
     "text": [
      "\n",
      "import os\n",
      "import seaborn as sns\n",
      "import matplotlib.pyplot as plt\n",
      "import pandas as pd\n",
      "import numpy as np\n",
      "import math as m\n",
      "from scipy import stats\n",
      "from tests import output_chi2_contingency\n",
      "\n",
      "from wrangle import get_wrangled\n",
      "from viz import get_viz\n",
      "from tests import get_tests\n",
      "from formating import get_formating\n",
      "from modeling import get_modeling\n",
      "\n",
      "    \n"
     ]
    }
   ],
   "source": [
    "get_setup()"
   ]
  },
  {
   "cell_type": "code",
   "execution_count": 1,
   "id": "ce91d82b",
   "metadata": {},
   "outputs": [],
   "source": [
    "import os\n",
    "import seaborn as sns\n",
    "import matplotlib.pyplot as plt\n",
    "import pandas as pd\n",
    "import numpy as np\n",
    "import math as m\n",
    "from scipy import stats\n",
    "\n",
    "from wrangle import get_wrangled\n",
    "from viz import get_viz\n",
    "from tests import get_tests\n",
    "from formating import get_formating\n",
    "from modeling import get_modeling\n"
   ]
  },
  {
   "cell_type": "code",
   "execution_count": 4,
   "id": "0d73fbd1",
   "metadata": {},
   "outputs": [
    {
     "name": "stdout",
     "output_type": "stream",
     "text": [
      "\n",
      "# this will pull in the DB from the RDBMS or cache\n",
      "# utilizes get_db_url, gdb, and is dependent on an env.py file with credentials\n",
      "# summarize will give a summary of a DataFrame\n",
      "from wrangle import get_zillow, summarize, sfr, remove_outliers,     handle_missing_values, split_data_continuous\n",
      "\n",
      "\n",
      "    \n"
     ]
    }
   ],
   "source": [
    "get_wrangled()"
   ]
  },
  {
   "cell_type": "code",
   "execution_count": 2,
   "id": "c91c70b4",
   "metadata": {},
   "outputs": [],
   "source": [
    "from wrangle import get_zillow, summarize, SFR, remove_outliers,\\\n",
    "handle_missing_values, split_data_continuous"
   ]
  },
  {
   "cell_type": "code",
   "execution_count": 3,
   "id": "dadae018",
   "metadata": {},
   "outputs": [],
   "source": [
    "df = get_zillow()"
   ]
  },
  {
   "cell_type": "code",
   "execution_count": 4,
   "id": "ad7e99da",
   "metadata": {},
   "outputs": [],
   "source": [
    "df = SFR(df)"
   ]
  },
  {
   "cell_type": "code",
   "execution_count": 8,
   "id": "cf3301bb",
   "metadata": {
    "collapsed": true
   },
   "outputs": [
    {
     "name": "stdout",
     "output_type": "stream",
     "text": [
      "<class 'pandas.core.frame.DataFrame'>\n",
      "Int64Index: 52086 entries, 0 to 76711\n",
      "Data columns (total 62 columns):\n",
      " #   Column                Non-Null Count  Dtype         \n",
      "---  ------                --------------  -----         \n",
      " 0   id                    52086 non-null  int64         \n",
      " 1   parcel                52086 non-null  int64         \n",
      " 2   logerror              52086 non-null  float64       \n",
      " 3   trans_date            52086 non-null  datetime64[ns]\n",
      " 4   ac_type               13600 non-null  object        \n",
      " 5   arch_type             70 non-null     object        \n",
      " 6   build_type            0 non-null      object        \n",
      " 7   heat_type             33808 non-null  object        \n",
      " 8   land_use_type         52086 non-null  object        \n",
      " 9   story_type            0 non-null      object        \n",
      " 10  construction_type     76 non-null     object        \n",
      " 11  basementsqft          0 non-null      float64       \n",
      " 12  bathrooms             52086 non-null  float64       \n",
      " 13  bedrooms              52086 non-null  float64       \n",
      " 14  quality_type          33605 non-null  float64       \n",
      " 15  calc_bath_n_bed       52071 non-null  float64       \n",
      " 16  deck_type             372 non-null    float64       \n",
      " 17  floor_1_sqft          4304 non-null   float64       \n",
      " 18  tot_sqft              52086 non-null  float64       \n",
      " 19  sqft_12               51928 non-null  float64       \n",
      " 20  sqft_13               0 non-null      float64       \n",
      " 21  sqft_15               0 non-null      float64       \n",
      " 22  sqft_50               4304 non-null   float64       \n",
      " 23  sqft_6                158 non-null    float64       \n",
      " 24  fips                  52086 non-null  object        \n",
      " 25  fireplaces            7175 non-null   float64       \n",
      " 26  full_baths            52071 non-null  float64       \n",
      " 27  garages               17920 non-null  float64       \n",
      " 28  garage_sqft           17920 non-null  float64       \n",
      " 29  hot_tub               1514 non-null   float64       \n",
      " 30  lat                   52086 non-null  float64       \n",
      " 31  lon                   52086 non-null  float64       \n",
      " 32  lot_sqft              51736 non-null  float64       \n",
      " 33  pools                 11045 non-null  float64       \n",
      " 34  pool_sqft             847 non-null    float64       \n",
      " 35  pool_id10             443 non-null    float64       \n",
      " 36  pool_id2              1071 non-null   float64       \n",
      " 37  pool_id7              9958 non-null   float64       \n",
      " 38  county_landuse        52086 non-null  object        \n",
      " 39  zoning                33666 non-null  object        \n",
      " 40  raw_tract_and_block   52086 non-null  float64       \n",
      " 41  city_id               51058 non-null  float64       \n",
      " 42  county_id             52086 non-null  float64       \n",
      " 43  neighborhood          18907 non-null  float64       \n",
      " 44  zip_code              52063 non-null  float64       \n",
      " 45  num_rooms             52086 non-null  float64       \n",
      " 46  stories_type          0 non-null      float64       \n",
      " 47  three_quarter_baths   6694 non-null   float64       \n",
      " 48  units                 33691 non-null  float64       \n",
      " 49  yard_sqft_17          1916 non-null   float64       \n",
      " 50  yard_sqft_26          58 non-null     float64       \n",
      " 51  year_built            52053 non-null  object        \n",
      " 52  num_stories           14455 non-null  float64       \n",
      " 53  fireplace_flag        81 non-null     float64       \n",
      " 54  building_tax_value    52018 non-null  float64       \n",
      " 55  tax_value             52086 non-null  float64       \n",
      " 56  year_assesed          52086 non-null  float64       \n",
      " 57  land_tax_value        52086 non-null  float64       \n",
      " 58  tax_amount            52082 non-null  float64       \n",
      " 59  tax_delinquency_flag  2058 non-null   object        \n",
      " 60  tax_delinquency_year  2058 non-null   float64       \n",
      " 61  tract_and_block       51977 non-null  float64       \n",
      "dtypes: datetime64[ns](1), float64(47), int64(2), object(12)\n",
      "memory usage: 25.0+ MB\n"
     ]
    }
   ],
   "source": [
    "df.info()"
   ]
  },
  {
   "cell_type": "code",
   "execution_count": 5,
   "id": "08115564",
   "metadata": {},
   "outputs": [],
   "source": [
    "outlier_cols = ['bathrooms',\n",
    " 'bedrooms',\n",
    " 'tot_sqft',\n",
    " 'fireplaces',\n",
    " 'full_baths',\n",
    " 'garages',\n",
    " 'garage_sqft',\n",
    " 'lot_sqft',\n",
    " 'tax_value',\n",
    " 'land_tax_value',\n",
    "]"
   ]
  },
  {
   "cell_type": "code",
   "execution_count": 6,
   "id": "3d080957",
   "metadata": {
    "collapsed": true
   },
   "outputs": [
    {
     "name": "stdout",
     "output_type": "stream",
     "text": [
      "Number of observations removed: 12223\n",
      "<class 'pandas.core.frame.DataFrame'>\n",
      "Int64Index: 39863 entries, 0 to 76711\n",
      "Data columns (total 62 columns):\n",
      " #   Column                Non-Null Count  Dtype         \n",
      "---  ------                --------------  -----         \n",
      " 0   id                    39863 non-null  int64         \n",
      " 1   parcel                39863 non-null  int64         \n",
      " 2   logerror              39863 non-null  float64       \n",
      " 3   trans_date            39863 non-null  datetime64[ns]\n",
      " 4   ac_type               9685 non-null   object        \n",
      " 5   arch_type             43 non-null     object        \n",
      " 6   build_type            0 non-null      object        \n",
      " 7   heat_type             27403 non-null  object        \n",
      " 8   land_use_type         39863 non-null  object        \n",
      " 9   story_type            0 non-null      object        \n",
      " 10  construction_type     49 non-null     object        \n",
      " 11  basementsqft          0 non-null      float64       \n",
      " 12  bathrooms             39863 non-null  float64       \n",
      " 13  bedrooms              39863 non-null  float64       \n",
      " 14  quality_type          27405 non-null  float64       \n",
      " 15  calc_bath_n_bed       39857 non-null  float64       \n",
      " 16  deck_type             129 non-null    float64       \n",
      " 17  floor_1_sqft          2753 non-null   float64       \n",
      " 18  tot_sqft              39863 non-null  float64       \n",
      " 19  sqft_12               39792 non-null  float64       \n",
      " 20  sqft_13               0 non-null      float64       \n",
      " 21  sqft_15               0 non-null      float64       \n",
      " 22  sqft_50               2753 non-null   float64       \n",
      " 23  sqft_6                71 non-null     float64       \n",
      " 24  fips                  39863 non-null  object        \n",
      " 25  fireplaces            4812 non-null   float64       \n",
      " 26  full_baths            39857 non-null  float64       \n",
      " 27  garages               12166 non-null  float64       \n",
      " 28  garage_sqft           12166 non-null  float64       \n",
      " 29  hot_tub               772 non-null    float64       \n",
      " 30  lat                   39863 non-null  float64       \n",
      " 31  lon                   39863 non-null  float64       \n",
      " 32  lot_sqft              39659 non-null  float64       \n",
      " 33  pools                 6519 non-null   float64       \n",
      " 34  pool_sqft             381 non-null    float64       \n",
      " 35  pool_id10             295 non-null    float64       \n",
      " 36  pool_id2              477 non-null    float64       \n",
      " 37  pool_id7              6032 non-null   float64       \n",
      " 38  county_landuse        39863 non-null  object        \n",
      " 39  zoning                27371 non-null  object        \n",
      " 40  raw_tract_and_block   39863 non-null  float64       \n",
      " 41  city_id               39134 non-null  float64       \n",
      " 42  county_id             39863 non-null  float64       \n",
      " 43  neighborhood          14592 non-null  float64       \n",
      " 44  zip_code              39847 non-null  float64       \n",
      " 45  num_rooms             39863 non-null  float64       \n",
      " 46  stories_type          0 non-null      float64       \n",
      " 47  three_quarter_baths   4170 non-null   float64       \n",
      " 48  units                 27388 non-null  float64       \n",
      " 49  yard_sqft_17          1183 non-null   float64       \n",
      " 50  yard_sqft_26          19 non-null     float64       \n",
      " 51  year_built            39849 non-null  object        \n",
      " 52  num_stories           9794 non-null   float64       \n",
      " 53  fireplace_flag        61 non-null     float64       \n",
      " 54  building_tax_value    39843 non-null  float64       \n",
      " 55  tax_value             39863 non-null  float64       \n",
      " 56  year_assesed          39863 non-null  float64       \n",
      " 57  land_tax_value        39863 non-null  float64       \n",
      " 58  tax_amount            39860 non-null  float64       \n",
      " 59  tax_delinquency_flag  1604 non-null   object        \n",
      " 60  tax_delinquency_year  1604 non-null   float64       \n",
      " 61  tract_and_block       39789 non-null  float64       \n",
      "dtypes: datetime64[ns](1), float64(47), int64(2), object(12)\n",
      "memory usage: 19.2+ MB\n"
     ]
    }
   ],
   "source": [
    "df = remove_outliers(df, col_list=outlier_cols)\n",
    "df.info()"
   ]
  },
  {
   "cell_type": "code",
   "execution_count": 7,
   "id": "e4a254b4",
   "metadata": {},
   "outputs": [
    {
     "data": {
      "text/html": [
       "<div>\n",
       "<style scoped>\n",
       "    .dataframe tbody tr th:only-of-type {\n",
       "        vertical-align: middle;\n",
       "    }\n",
       "\n",
       "    .dataframe tbody tr th {\n",
       "        vertical-align: top;\n",
       "    }\n",
       "\n",
       "    .dataframe thead th {\n",
       "        text-align: right;\n",
       "    }\n",
       "</style>\n",
       "<table border=\"1\" class=\"dataframe\">\n",
       "  <thead>\n",
       "    <tr style=\"text-align: right;\">\n",
       "      <th></th>\n",
       "      <th>garages</th>\n",
       "      <th>garage_sqft</th>\n",
       "    </tr>\n",
       "  </thead>\n",
       "  <tbody>\n",
       "    <tr>\n",
       "      <th>0</th>\n",
       "      <td>2.0</td>\n",
       "      <td>633.0</td>\n",
       "    </tr>\n",
       "    <tr>\n",
       "      <th>2</th>\n",
       "      <td>2.0</td>\n",
       "      <td>440.0</td>\n",
       "    </tr>\n",
       "    <tr>\n",
       "      <th>3</th>\n",
       "      <td>0.0</td>\n",
       "      <td>0.0</td>\n",
       "    </tr>\n",
       "    <tr>\n",
       "      <th>7</th>\n",
       "      <td>0.0</td>\n",
       "      <td>0.0</td>\n",
       "    </tr>\n",
       "    <tr>\n",
       "      <th>10</th>\n",
       "      <td>0.0</td>\n",
       "      <td>0.0</td>\n",
       "    </tr>\n",
       "    <tr>\n",
       "      <th>...</th>\n",
       "      <td>...</td>\n",
       "      <td>...</td>\n",
       "    </tr>\n",
       "    <tr>\n",
       "      <th>76705</th>\n",
       "      <td>0.0</td>\n",
       "      <td>0.0</td>\n",
       "    </tr>\n",
       "    <tr>\n",
       "      <th>76706</th>\n",
       "      <td>0.0</td>\n",
       "      <td>0.0</td>\n",
       "    </tr>\n",
       "    <tr>\n",
       "      <th>76709</th>\n",
       "      <td>2.0</td>\n",
       "      <td>560.0</td>\n",
       "    </tr>\n",
       "    <tr>\n",
       "      <th>76710</th>\n",
       "      <td>0.0</td>\n",
       "      <td>0.0</td>\n",
       "    </tr>\n",
       "    <tr>\n",
       "      <th>76711</th>\n",
       "      <td>0.0</td>\n",
       "      <td>0.0</td>\n",
       "    </tr>\n",
       "  </tbody>\n",
       "</table>\n",
       "<p>39863 rows × 2 columns</p>\n",
       "</div>"
      ],
      "text/plain": [
       "       garages  garage_sqft\n",
       "0          2.0        633.0\n",
       "2          2.0        440.0\n",
       "3          0.0          0.0\n",
       "7          0.0          0.0\n",
       "10         0.0          0.0\n",
       "...        ...          ...\n",
       "76705      0.0          0.0\n",
       "76706      0.0          0.0\n",
       "76709      2.0        560.0\n",
       "76710      0.0          0.0\n",
       "76711      0.0          0.0\n",
       "\n",
       "[39863 rows x 2 columns]"
      ]
     },
     "execution_count": 7,
     "metadata": {},
     "output_type": "execute_result"
    }
   ],
   "source": [
    "df[['garages', 'garage_sqft']].fillna(0)"
   ]
  },
  {
   "cell_type": "code",
   "execution_count": 26,
   "id": "9d12f9d9",
   "metadata": {
    "collapsed": true
   },
   "outputs": [
    {
     "name": "stdout",
     "output_type": "stream",
     "text": [
      "<class 'pandas.core.frame.DataFrame'>\n",
      "Int64Index: 39863 entries, 0 to 76711\n",
      "Data columns (total 62 columns):\n",
      " #   Column                Non-Null Count  Dtype         \n",
      "---  ------                --------------  -----         \n",
      " 0   id                    39863 non-null  int64         \n",
      " 1   parcel                39863 non-null  int64         \n",
      " 2   logerror              39863 non-null  float64       \n",
      " 3   trans_date            39863 non-null  datetime64[ns]\n",
      " 4   ac_type               9685 non-null   object        \n",
      " 5   arch_type             43 non-null     object        \n",
      " 6   build_type            0 non-null      object        \n",
      " 7   heat_type             27403 non-null  object        \n",
      " 8   land_use_type         39863 non-null  object        \n",
      " 9   story_type            0 non-null      object        \n",
      " 10  construction_type     49 non-null     object        \n",
      " 11  basementsqft          0 non-null      float64       \n",
      " 12  bathrooms             39863 non-null  float64       \n",
      " 13  bedrooms              39863 non-null  float64       \n",
      " 14  quality_type          27405 non-null  float64       \n",
      " 15  calc_bath_n_bed       39857 non-null  float64       \n",
      " 16  deck_type             129 non-null    float64       \n",
      " 17  floor_1_sqft          2753 non-null   float64       \n",
      " 18  tot_sqft              39863 non-null  float64       \n",
      " 19  sqft_12               39792 non-null  float64       \n",
      " 20  sqft_13               0 non-null      float64       \n",
      " 21  sqft_15               0 non-null      float64       \n",
      " 22  sqft_50               2753 non-null   float64       \n",
      " 23  sqft_6                71 non-null     float64       \n",
      " 24  fips                  39863 non-null  object        \n",
      " 25  fireplaces            4812 non-null   float64       \n",
      " 26  full_baths            39857 non-null  float64       \n",
      " 27  garages               39863 non-null  float64       \n",
      " 28  garage_sqft           39863 non-null  float64       \n",
      " 29  hot_tub               772 non-null    float64       \n",
      " 30  lat                   39863 non-null  float64       \n",
      " 31  lon                   39863 non-null  float64       \n",
      " 32  lot_sqft              39659 non-null  float64       \n",
      " 33  pools                 6519 non-null   float64       \n",
      " 34  pool_sqft             381 non-null    float64       \n",
      " 35  pool_id10             295 non-null    float64       \n",
      " 36  pool_id2              477 non-null    float64       \n",
      " 37  pool_id7              6032 non-null   float64       \n",
      " 38  county_landuse        39863 non-null  object        \n",
      " 39  zoning                27371 non-null  object        \n",
      " 40  raw_tract_and_block   39863 non-null  float64       \n",
      " 41  city_id               39134 non-null  float64       \n",
      " 42  county_id             39863 non-null  float64       \n",
      " 43  neighborhood          14592 non-null  float64       \n",
      " 44  zip_code              39847 non-null  float64       \n",
      " 45  num_rooms             39863 non-null  float64       \n",
      " 46  stories_type          0 non-null      float64       \n",
      " 47  three_quarter_baths   4170 non-null   float64       \n",
      " 48  units                 27388 non-null  float64       \n",
      " 49  yard_sqft_17          1183 non-null   float64       \n",
      " 50  yard_sqft_26          19 non-null     float64       \n",
      " 51  year_built            39849 non-null  object        \n",
      " 52  num_stories           9794 non-null   float64       \n",
      " 53  fireplace_flag        61 non-null     float64       \n",
      " 54  building_tax_value    39843 non-null  float64       \n",
      " 55  tax_value             39863 non-null  float64       \n",
      " 56  year_assesed          39863 non-null  float64       \n",
      " 57  land_tax_value        39863 non-null  float64       \n",
      " 58  tax_amount            39860 non-null  float64       \n",
      " 59  tax_delinquency_flag  1604 non-null   object        \n",
      " 60  tax_delinquency_year  1604 non-null   float64       \n",
      " 61  tract_and_block       39789 non-null  float64       \n",
      "dtypes: datetime64[ns](1), float64(47), int64(2), object(12)\n",
      "memory usage: 19.2+ MB\n"
     ]
    }
   ],
   "source": [
    "df.garage_sqft = df.garage_sqft.fillna(0)\n",
    "df.garages = df. garages.fillna(0)\n",
    "df.info()"
   ]
  },
  {
   "cell_type": "code",
   "execution_count": 8,
   "id": "dcca05a9",
   "metadata": {},
   "outputs": [],
   "source": [
    "df.hot_tub = df.hot_tub.fillna(0)"
   ]
  },
  {
   "cell_type": "code",
   "execution_count": 30,
   "id": "0946a4d9",
   "metadata": {},
   "outputs": [
    {
     "data": {
      "text/plain": [
       "count    6519.0\n",
       "mean        1.0\n",
       "std         0.0\n",
       "min         1.0\n",
       "25%         1.0\n",
       "50%         1.0\n",
       "75%         1.0\n",
       "max         1.0\n",
       "Name: pools, dtype: float64"
      ]
     },
     "execution_count": 30,
     "metadata": {},
     "output_type": "execute_result"
    }
   ],
   "source": [
    "df.pools.describe()"
   ]
  },
  {
   "cell_type": "code",
   "execution_count": 9,
   "id": "5e4e9d69",
   "metadata": {},
   "outputs": [],
   "source": [
    "df.pools = df.pools.fillna(0)"
   ]
  },
  {
   "cell_type": "code",
   "execution_count": 32,
   "id": "0d99e70c",
   "metadata": {},
   "outputs": [
    {
     "data": {
      "text/plain": [
       "count    9794.000000\n",
       "mean        1.419236\n",
       "std         0.538767\n",
       "min         1.000000\n",
       "25%         1.000000\n",
       "50%         1.000000\n",
       "75%         2.000000\n",
       "max         6.000000\n",
       "Name: num_stories, dtype: float64"
      ]
     },
     "execution_count": 32,
     "metadata": {},
     "output_type": "execute_result"
    }
   ],
   "source": [
    "df.num_stories.describe()"
   ]
  },
  {
   "cell_type": "code",
   "execution_count": 33,
   "id": "5b4d805a",
   "metadata": {},
   "outputs": [
    {
     "data": {
      "text/plain": [
       "count     1604\n",
       "unique       1\n",
       "top          Y\n",
       "freq      1604\n",
       "Name: tax_delinquency_flag, dtype: object"
      ]
     },
     "execution_count": 33,
     "metadata": {},
     "output_type": "execute_result"
    }
   ],
   "source": [
    "df.tax_delinquency_flag.describe()"
   ]
  },
  {
   "cell_type": "code",
   "execution_count": 34,
   "id": "72ea2ef2",
   "metadata": {},
   "outputs": [
    {
     "data": {
      "text/plain": [
       "Y    1604\n",
       "Name: tax_delinquency_flag, dtype: int64"
      ]
     },
     "execution_count": 34,
     "metadata": {},
     "output_type": "execute_result"
    }
   ],
   "source": [
    "df.tax_delinquency_flag.value_counts()"
   ]
  },
  {
   "cell_type": "code",
   "execution_count": 10,
   "id": "c8ca2513",
   "metadata": {},
   "outputs": [],
   "source": [
    "df.tax_delinquency_flag = df.tax_delinquency_flag.map({'Y':1}).fillna(0)"
   ]
  },
  {
   "cell_type": "code",
   "execution_count": 38,
   "id": "df01c8d1",
   "metadata": {},
   "outputs": [
    {
     "data": {
      "text/plain": [
       "0.0    38259\n",
       "1.0     1604\n",
       "Name: tax_delinquency_flag, dtype: int64"
      ]
     },
     "execution_count": 38,
     "metadata": {},
     "output_type": "execute_result"
    }
   ],
   "source": [
    "df.tax_delinquency_flag.value_counts()"
   ]
  },
  {
   "cell_type": "code",
   "execution_count": 11,
   "id": "c41b264c",
   "metadata": {},
   "outputs": [
    {
     "name": "stdout",
     "output_type": "stream",
     "text": [
      "<class 'pandas.core.frame.DataFrame'>\n",
      "Int64Index: 39863 entries, 0 to 76711\n",
      "Data columns (total 62 columns):\n",
      " #   Column                Non-Null Count  Dtype         \n",
      "---  ------                --------------  -----         \n",
      " 0   id                    39863 non-null  int64         \n",
      " 1   parcel                39863 non-null  int64         \n",
      " 2   logerror              39863 non-null  float64       \n",
      " 3   trans_date            39863 non-null  datetime64[ns]\n",
      " 4   ac_type               9685 non-null   object        \n",
      " 5   arch_type             43 non-null     object        \n",
      " 6   build_type            0 non-null      object        \n",
      " 7   heat_type             27403 non-null  object        \n",
      " 8   land_use_type         39863 non-null  object        \n",
      " 9   story_type            0 non-null      object        \n",
      " 10  construction_type     49 non-null     object        \n",
      " 11  basementsqft          0 non-null      float64       \n",
      " 12  bathrooms             39863 non-null  float64       \n",
      " 13  bedrooms              39863 non-null  float64       \n",
      " 14  quality_type          27405 non-null  float64       \n",
      " 15  calc_bath_n_bed       39857 non-null  float64       \n",
      " 16  deck_type             129 non-null    float64       \n",
      " 17  floor_1_sqft          2753 non-null   float64       \n",
      " 18  tot_sqft              39863 non-null  float64       \n",
      " 19  sqft_12               39792 non-null  float64       \n",
      " 20  sqft_13               0 non-null      float64       \n",
      " 21  sqft_15               0 non-null      float64       \n",
      " 22  sqft_50               2753 non-null   float64       \n",
      " 23  sqft_6                71 non-null     float64       \n",
      " 24  fips                  39863 non-null  object        \n",
      " 25  fireplaces            4812 non-null   float64       \n",
      " 26  full_baths            39857 non-null  float64       \n",
      " 27  garages               12166 non-null  float64       \n",
      " 28  garage_sqft           12166 non-null  float64       \n",
      " 29  hot_tub               39863 non-null  float64       \n",
      " 30  lat                   39863 non-null  float64       \n",
      " 31  lon                   39863 non-null  float64       \n",
      " 32  lot_sqft              39659 non-null  float64       \n",
      " 33  pools                 39863 non-null  float64       \n",
      " 34  pool_sqft             381 non-null    float64       \n",
      " 35  pool_id10             295 non-null    float64       \n",
      " 36  pool_id2              477 non-null    float64       \n",
      " 37  pool_id7              6032 non-null   float64       \n",
      " 38  county_landuse        39863 non-null  object        \n",
      " 39  zoning                27371 non-null  object        \n",
      " 40  raw_tract_and_block   39863 non-null  float64       \n",
      " 41  city_id               39134 non-null  float64       \n",
      " 42  county_id             39863 non-null  float64       \n",
      " 43  neighborhood          14592 non-null  float64       \n",
      " 44  zip_code              39847 non-null  float64       \n",
      " 45  num_rooms             39863 non-null  float64       \n",
      " 46  stories_type          0 non-null      float64       \n",
      " 47  three_quarter_baths   4170 non-null   float64       \n",
      " 48  units                 27388 non-null  float64       \n",
      " 49  yard_sqft_17          1183 non-null   float64       \n",
      " 50  yard_sqft_26          19 non-null     float64       \n",
      " 51  year_built            39849 non-null  object        \n",
      " 52  num_stories           9794 non-null   float64       \n",
      " 53  fireplace_flag        61 non-null     float64       \n",
      " 54  building_tax_value    39843 non-null  float64       \n",
      " 55  tax_value             39863 non-null  float64       \n",
      " 56  year_assesed          39863 non-null  float64       \n",
      " 57  land_tax_value        39863 non-null  float64       \n",
      " 58  tax_amount            39860 non-null  float64       \n",
      " 59  tax_delinquency_flag  39863 non-null  float64       \n",
      " 60  tax_delinquency_year  1604 non-null   float64       \n",
      " 61  tract_and_block       39789 non-null  float64       \n",
      "dtypes: datetime64[ns](1), float64(48), int64(2), object(11)\n",
      "memory usage: 19.2+ MB\n"
     ]
    }
   ],
   "source": [
    "df.info()"
   ]
  },
  {
   "cell_type": "code",
   "execution_count": 13,
   "id": "93d62e8d",
   "metadata": {},
   "outputs": [],
   "source": [
    "oc = df[df.fips == 'Orange County']\n",
    "la = df[df.fips == 'Los Angeles County']\n",
    "vc = df[df.fips == 'Ventura County']"
   ]
  },
  {
   "cell_type": "code",
   "execution_count": 14,
   "id": "0d6a2e61",
   "metadata": {},
   "outputs": [
    {
     "name": "stdout",
     "output_type": "stream",
     "text": [
      "<class 'pandas.core.frame.DataFrame'>\n",
      "Int64Index: 9696 entries, 0 to 76331\n",
      "Data columns (total 62 columns):\n",
      " #   Column                Non-Null Count  Dtype         \n",
      "---  ------                --------------  -----         \n",
      " 0   id                    9696 non-null   int64         \n",
      " 1   parcel                9696 non-null   int64         \n",
      " 2   logerror              9696 non-null   float64       \n",
      " 3   trans_date            9696 non-null   datetime64[ns]\n",
      " 4   ac_type               1480 non-null   object        \n",
      " 5   arch_type             43 non-null     object        \n",
      " 6   build_type            0 non-null      object        \n",
      " 7   heat_type             390 non-null    object        \n",
      " 8   land_use_type         9696 non-null   object        \n",
      " 9   story_type            0 non-null      object        \n",
      " 10  construction_type     49 non-null     object        \n",
      " 11  basementsqft          0 non-null      float64       \n",
      " 12  bathrooms             9696 non-null   float64       \n",
      " 13  bedrooms              9696 non-null   float64       \n",
      " 14  quality_type          0 non-null      float64       \n",
      " 15  calc_bath_n_bed       9690 non-null   float64       \n",
      " 16  deck_type             0 non-null      float64       \n",
      " 17  floor_1_sqft          0 non-null      float64       \n",
      " 18  tot_sqft              9696 non-null   float64       \n",
      " 19  sqft_12               9625 non-null   float64       \n",
      " 20  sqft_13               0 non-null      float64       \n",
      " 21  sqft_15               0 non-null      float64       \n",
      " 22  sqft_50               0 non-null      float64       \n",
      " 23  sqft_6                71 non-null     float64       \n",
      " 24  fips                  9696 non-null   object        \n",
      " 25  fireplaces            2568 non-null   float64       \n",
      " 26  full_baths            9690 non-null   float64       \n",
      " 27  garages               9449 non-null   float64       \n",
      " 28  garage_sqft           9449 non-null   float64       \n",
      " 29  hot_tub               9696 non-null   float64       \n",
      " 30  lat                   9696 non-null   float64       \n",
      " 31  lon                   9696 non-null   float64       \n",
      " 32  lot_sqft              9689 non-null   float64       \n",
      " 33  pools                 9696 non-null   float64       \n",
      " 34  pool_sqft             0 non-null      float64       \n",
      " 35  pool_id10             295 non-null    float64       \n",
      " 36  pool_id2              477 non-null    float64       \n",
      " 37  pool_id7              1460 non-null   float64       \n",
      " 38  county_landuse        9696 non-null   object        \n",
      " 39  zoning                0 non-null      object        \n",
      " 40  raw_tract_and_block   9696 non-null   float64       \n",
      " 41  city_id               9481 non-null   float64       \n",
      " 42  county_id             9696 non-null   float64       \n",
      " 43  neighborhood          1697 non-null   float64       \n",
      " 44  zip_code              9694 non-null   float64       \n",
      " 45  num_rooms             9696 non-null   float64       \n",
      " 46  stories_type          0 non-null      float64       \n",
      " 47  three_quarter_baths   3393 non-null   float64       \n",
      " 48  units                 1 non-null      float64       \n",
      " 49  yard_sqft_17          0 non-null      float64       \n",
      " 50  yard_sqft_26          0 non-null      float64       \n",
      " 51  year_built            9695 non-null   object        \n",
      " 52  num_stories           7039 non-null   float64       \n",
      " 53  fireplace_flag        61 non-null     float64       \n",
      " 54  building_tax_value    9695 non-null   float64       \n",
      " 55  tax_value             9696 non-null   float64       \n",
      " 56  year_assesed          9696 non-null   float64       \n",
      " 57  land_tax_value        9696 non-null   float64       \n",
      " 58  tax_amount            9696 non-null   float64       \n",
      " 59  tax_delinquency_flag  9696 non-null   float64       \n",
      " 60  tax_delinquency_year  182 non-null    float64       \n",
      " 61  tract_and_block       9673 non-null   float64       \n",
      "dtypes: datetime64[ns](1), float64(48), int64(2), object(11)\n",
      "memory usage: 4.7+ MB\n"
     ]
    }
   ],
   "source": [
    "oc.info()"
   ]
  },
  {
   "cell_type": "code",
   "execution_count": null,
   "id": "a8dad7dc",
   "metadata": {},
   "outputs": [],
   "source": []
  },
  {
   "cell_type": "code",
   "execution_count": 15,
   "id": "d1463db1",
   "metadata": {},
   "outputs": [
    {
     "name": "stdout",
     "output_type": "stream",
     "text": [
      "<class 'pandas.core.frame.DataFrame'>\n",
      "Int64Index: 27414 entries, 3 to 76711\n",
      "Data columns (total 62 columns):\n",
      " #   Column                Non-Null Count  Dtype         \n",
      "---  ------                --------------  -----         \n",
      " 0   id                    27414 non-null  int64         \n",
      " 1   parcel                27414 non-null  int64         \n",
      " 2   logerror              27414 non-null  float64       \n",
      " 3   trans_date            27414 non-null  datetime64[ns]\n",
      " 4   ac_type               8205 non-null   object        \n",
      " 5   arch_type             0 non-null      object        \n",
      " 6   build_type            0 non-null      object        \n",
      " 7   heat_type             27013 non-null  object        \n",
      " 8   land_use_type         27414 non-null  object        \n",
      " 9   story_type            0 non-null      object        \n",
      " 10  construction_type     0 non-null      object        \n",
      " 11  basementsqft          0 non-null      float64       \n",
      " 12  bathrooms             27414 non-null  float64       \n",
      " 13  bedrooms              27414 non-null  float64       \n",
      " 14  quality_type          27405 non-null  float64       \n",
      " 15  calc_bath_n_bed       27414 non-null  float64       \n",
      " 16  deck_type             0 non-null      float64       \n",
      " 17  floor_1_sqft          0 non-null      float64       \n",
      " 18  tot_sqft              27414 non-null  float64       \n",
      " 19  sqft_12               27414 non-null  float64       \n",
      " 20  sqft_13               0 non-null      float64       \n",
      " 21  sqft_15               0 non-null      float64       \n",
      " 22  sqft_50               0 non-null      float64       \n",
      " 23  sqft_6                0 non-null      float64       \n",
      " 24  fips                  27414 non-null  object        \n",
      " 25  fireplaces            0 non-null      float64       \n",
      " 26  full_baths            27414 non-null  float64       \n",
      " 27  garages               0 non-null      float64       \n",
      " 28  garage_sqft           0 non-null      float64       \n",
      " 29  hot_tub               27414 non-null  float64       \n",
      " 30  lat                   27414 non-null  float64       \n",
      " 31  lon                   27414 non-null  float64       \n",
      " 32  lot_sqft              27217 non-null  float64       \n",
      " 33  pools                 27414 non-null  float64       \n",
      " 34  pool_sqft             0 non-null      float64       \n",
      " 35  pool_id10             0 non-null      float64       \n",
      " 36  pool_id2              0 non-null      float64       \n",
      " 37  pool_id7              4183 non-null   float64       \n",
      " 38  county_landuse        27414 non-null  object        \n",
      " 39  zoning                27371 non-null  object        \n",
      " 40  raw_tract_and_block   27414 non-null  float64       \n",
      " 41  city_id               26909 non-null  float64       \n",
      " 42  county_id             27414 non-null  float64       \n",
      " 43  neighborhood          12554 non-null  float64       \n",
      " 44  zip_code              27406 non-null  float64       \n",
      " 45  num_rooms             27414 non-null  float64       \n",
      " 46  stories_type          0 non-null      float64       \n",
      " 47  three_quarter_baths   0 non-null      float64       \n",
      " 48  units                 27387 non-null  float64       \n",
      " 49  yard_sqft_17          0 non-null      float64       \n",
      " 50  yard_sqft_26          0 non-null      float64       \n",
      " 51  year_built            27409 non-null  object        \n",
      " 52  num_stories           2 non-null      float64       \n",
      " 53  fireplace_flag        0 non-null      float64       \n",
      " 54  building_tax_value    27395 non-null  float64       \n",
      " 55  tax_value             27414 non-null  float64       \n",
      " 56  year_assesed          27414 non-null  float64       \n",
      " 57  land_tax_value        27414 non-null  float64       \n",
      " 58  tax_amount            27411 non-null  float64       \n",
      " 59  tax_delinquency_flag  27414 non-null  float64       \n",
      " 60  tax_delinquency_year  1395 non-null   float64       \n",
      " 61  tract_and_block       27376 non-null  float64       \n",
      "dtypes: datetime64[ns](1), float64(48), int64(2), object(11)\n",
      "memory usage: 13.2+ MB\n"
     ]
    }
   ],
   "source": [
    "la.info()"
   ]
  },
  {
   "cell_type": "code",
   "execution_count": null,
   "id": "a21e44ec",
   "metadata": {},
   "outputs": [],
   "source": []
  },
  {
   "cell_type": "code",
   "execution_count": 16,
   "id": "b3027c73",
   "metadata": {},
   "outputs": [
    {
     "name": "stdout",
     "output_type": "stream",
     "text": [
      "<class 'pandas.core.frame.DataFrame'>\n",
      "Int64Index: 2753 entries, 14 to 76709\n",
      "Data columns (total 62 columns):\n",
      " #   Column                Non-Null Count  Dtype         \n",
      "---  ------                --------------  -----         \n",
      " 0   id                    2753 non-null   int64         \n",
      " 1   parcel                2753 non-null   int64         \n",
      " 2   logerror              2753 non-null   float64       \n",
      " 3   trans_date            2753 non-null   datetime64[ns]\n",
      " 4   ac_type               0 non-null      object        \n",
      " 5   arch_type             0 non-null      object        \n",
      " 6   build_type            0 non-null      object        \n",
      " 7   heat_type             0 non-null      object        \n",
      " 8   land_use_type         2753 non-null   object        \n",
      " 9   story_type            0 non-null      object        \n",
      " 10  construction_type     0 non-null      object        \n",
      " 11  basementsqft          0 non-null      float64       \n",
      " 12  bathrooms             2753 non-null   float64       \n",
      " 13  bedrooms              2753 non-null   float64       \n",
      " 14  quality_type          0 non-null      float64       \n",
      " 15  calc_bath_n_bed       2753 non-null   float64       \n",
      " 16  deck_type             129 non-null    float64       \n",
      " 17  floor_1_sqft          2753 non-null   float64       \n",
      " 18  tot_sqft              2753 non-null   float64       \n",
      " 19  sqft_12               2753 non-null   float64       \n",
      " 20  sqft_13               0 non-null      float64       \n",
      " 21  sqft_15               0 non-null      float64       \n",
      " 22  sqft_50               2753 non-null   float64       \n",
      " 23  sqft_6                0 non-null      float64       \n",
      " 24  fips                  2753 non-null   object        \n",
      " 25  fireplaces            2244 non-null   float64       \n",
      " 26  full_baths            2753 non-null   float64       \n",
      " 27  garages               2717 non-null   float64       \n",
      " 28  garage_sqft           2717 non-null   float64       \n",
      " 29  hot_tub               2753 non-null   float64       \n",
      " 30  lat                   2753 non-null   float64       \n",
      " 31  lon                   2753 non-null   float64       \n",
      " 32  lot_sqft              2753 non-null   float64       \n",
      " 33  pools                 2753 non-null   float64       \n",
      " 34  pool_sqft             381 non-null    float64       \n",
      " 35  pool_id10             0 non-null      float64       \n",
      " 36  pool_id2              0 non-null      float64       \n",
      " 37  pool_id7              389 non-null    float64       \n",
      " 38  county_landuse        2753 non-null   object        \n",
      " 39  zoning                0 non-null      object        \n",
      " 40  raw_tract_and_block   2753 non-null   float64       \n",
      " 41  city_id               2744 non-null   float64       \n",
      " 42  county_id             2753 non-null   float64       \n",
      " 43  neighborhood          341 non-null    float64       \n",
      " 44  zip_code              2747 non-null   float64       \n",
      " 45  num_rooms             2753 non-null   float64       \n",
      " 46  stories_type          0 non-null      float64       \n",
      " 47  three_quarter_baths   777 non-null    float64       \n",
      " 48  units                 0 non-null      float64       \n",
      " 49  yard_sqft_17          1183 non-null   float64       \n",
      " 50  yard_sqft_26          19 non-null     float64       \n",
      " 51  year_built            2745 non-null   object        \n",
      " 52  num_stories           2753 non-null   float64       \n",
      " 53  fireplace_flag        0 non-null      float64       \n",
      " 54  building_tax_value    2753 non-null   float64       \n",
      " 55  tax_value             2753 non-null   float64       \n",
      " 56  year_assesed          2753 non-null   float64       \n",
      " 57  land_tax_value        2753 non-null   float64       \n",
      " 58  tax_amount            2753 non-null   float64       \n",
      " 59  tax_delinquency_flag  2753 non-null   float64       \n",
      " 60  tax_delinquency_year  27 non-null     float64       \n",
      " 61  tract_and_block       2740 non-null   float64       \n",
      "dtypes: datetime64[ns](1), float64(48), int64(2), object(11)\n",
      "memory usage: 1.3+ MB\n"
     ]
    }
   ],
   "source": [
    "vc.info()"
   ]
  },
  {
   "cell_type": "code",
   "execution_count": 20,
   "id": "1430c0d6",
   "metadata": {},
   "outputs": [
    {
     "data": {
      "text/plain": [
       "0.002905920813657828"
      ]
     },
     "execution_count": 20,
     "metadata": {},
     "output_type": "execute_result"
    }
   ],
   "source": [
    "len(vc.year_built[vc.year_built.isnull()])/len(vc)"
   ]
  },
  {
   "cell_type": "code",
   "execution_count": null,
   "id": "19cfee7b",
   "metadata": {},
   "outputs": [],
   "source": []
  },
  {
   "cell_type": "code",
   "execution_count": 38,
   "id": "ca0e7c46",
   "metadata": {},
   "outputs": [],
   "source": [
    "# county_nulls = pd.DataFrame({'vc': 0,\n",
    "#                              'la': 0,\n",
    "#                              'oc': 0\n",
    "#                             }, index= [0])\n",
    "# county_nulls"
   ]
  },
  {
   "cell_type": "code",
   "execution_count": 36,
   "id": "ad8168be",
   "metadata": {},
   "outputs": [],
   "source": [
    "# for j in df:\n",
    "#     for i in [vc, la, oc]:\n",
    "#         cent_null = len(i[j][i[j].isnull()])/len(i)\n",
    "        \n",
    "#         print(cent_null)\n",
    "        "
   ]
  },
  {
   "cell_type": "code",
   "execution_count": 39,
   "id": "0f2e7332",
   "metadata": {},
   "outputs": [
    {
     "name": "stdout",
     "output_type": "stream",
     "text": [
      "<class 'pandas.core.frame.DataFrame'>\n",
      "Int64Index: 2753 entries, 14 to 76709\n",
      "Data columns (total 37 columns):\n",
      " #   Column                Non-Null Count  Dtype         \n",
      "---  ------                --------------  -----         \n",
      " 0   id                    2753 non-null   int64         \n",
      " 1   parcel                2753 non-null   int64         \n",
      " 2   logerror              2753 non-null   float64       \n",
      " 3   trans_date            2753 non-null   datetime64[ns]\n",
      " 4   land_use_type         2753 non-null   object        \n",
      " 5   bathrooms             2753 non-null   float64       \n",
      " 6   bedrooms              2753 non-null   float64       \n",
      " 7   calc_bath_n_bed       2753 non-null   float64       \n",
      " 8   floor_1_sqft          2753 non-null   float64       \n",
      " 9   tot_sqft              2753 non-null   float64       \n",
      " 10  sqft_12               2753 non-null   float64       \n",
      " 11  sqft_50               2753 non-null   float64       \n",
      " 12  fips                  2753 non-null   object        \n",
      " 13  fireplaces            2244 non-null   float64       \n",
      " 14  full_baths            2753 non-null   float64       \n",
      " 15  garages               2717 non-null   float64       \n",
      " 16  garage_sqft           2717 non-null   float64       \n",
      " 17  hot_tub               2753 non-null   float64       \n",
      " 18  lat                   2753 non-null   float64       \n",
      " 19  lon                   2753 non-null   float64       \n",
      " 20  lot_sqft              2753 non-null   float64       \n",
      " 21  pools                 2753 non-null   float64       \n",
      " 22  county_landuse        2753 non-null   object        \n",
      " 23  raw_tract_and_block   2753 non-null   float64       \n",
      " 24  city_id               2744 non-null   float64       \n",
      " 25  county_id             2753 non-null   float64       \n",
      " 26  zip_code              2747 non-null   float64       \n",
      " 27  num_rooms             2753 non-null   float64       \n",
      " 28  year_built            2745 non-null   object        \n",
      " 29  num_stories           2753 non-null   float64       \n",
      " 30  building_tax_value    2753 non-null   float64       \n",
      " 31  tax_value             2753 non-null   float64       \n",
      " 32  year_assesed          2753 non-null   float64       \n",
      " 33  land_tax_value        2753 non-null   float64       \n",
      " 34  tax_amount            2753 non-null   float64       \n",
      " 35  tax_delinquency_flag  2753 non-null   float64       \n",
      " 36  tract_and_block       2740 non-null   float64       \n",
      "dtypes: datetime64[ns](1), float64(30), int64(2), object(4)\n",
      "memory usage: 817.3+ KB\n"
     ]
    }
   ],
   "source": [
    "vc_droped = handle_missing_values(vc)\n",
    "vc_droped.info()"
   ]
  },
  {
   "cell_type": "code",
   "execution_count": 41,
   "id": "a04ef4f0",
   "metadata": {},
   "outputs": [
    {
     "name": "stdout",
     "output_type": "stream",
     "text": [
      "<class 'pandas.core.frame.DataFrame'>\n",
      "Int64Index: 9696 entries, 0 to 76331\n",
      "Data columns (total 34 columns):\n",
      " #   Column                Non-Null Count  Dtype         \n",
      "---  ------                --------------  -----         \n",
      " 0   id                    9696 non-null   int64         \n",
      " 1   parcel                9696 non-null   int64         \n",
      " 2   logerror              9696 non-null   float64       \n",
      " 3   trans_date            9696 non-null   datetime64[ns]\n",
      " 4   land_use_type         9696 non-null   object        \n",
      " 5   bathrooms             9696 non-null   float64       \n",
      " 6   bedrooms              9696 non-null   float64       \n",
      " 7   calc_bath_n_bed       9690 non-null   float64       \n",
      " 8   tot_sqft              9696 non-null   float64       \n",
      " 9   sqft_12               9625 non-null   float64       \n",
      " 10  fips                  9696 non-null   object        \n",
      " 11  full_baths            9690 non-null   float64       \n",
      " 12  garages               9449 non-null   float64       \n",
      " 13  garage_sqft           9449 non-null   float64       \n",
      " 14  hot_tub               9696 non-null   float64       \n",
      " 15  lat                   9696 non-null   float64       \n",
      " 16  lon                   9696 non-null   float64       \n",
      " 17  lot_sqft              9689 non-null   float64       \n",
      " 18  pools                 9696 non-null   float64       \n",
      " 19  county_landuse        9696 non-null   object        \n",
      " 20  raw_tract_and_block   9696 non-null   float64       \n",
      " 21  city_id               9481 non-null   float64       \n",
      " 22  county_id             9696 non-null   float64       \n",
      " 23  zip_code              9694 non-null   float64       \n",
      " 24  num_rooms             9696 non-null   float64       \n",
      " 25  year_built            9695 non-null   object        \n",
      " 26  num_stories           7039 non-null   float64       \n",
      " 27  building_tax_value    9695 non-null   float64       \n",
      " 28  tax_value             9696 non-null   float64       \n",
      " 29  year_assesed          9696 non-null   float64       \n",
      " 30  land_tax_value        9696 non-null   float64       \n",
      " 31  tax_amount            9696 non-null   float64       \n",
      " 32  tax_delinquency_flag  9696 non-null   float64       \n",
      " 33  tract_and_block       9673 non-null   float64       \n",
      "dtypes: datetime64[ns](1), float64(27), int64(2), object(4)\n",
      "memory usage: 2.6+ MB\n"
     ]
    }
   ],
   "source": [
    "oc_droped = handle_missing_values(oc)\n",
    "oc_droped.info()"
   ]
  },
  {
   "cell_type": "code",
   "execution_count": 42,
   "id": "13dd781d",
   "metadata": {},
   "outputs": [
    {
     "name": "stdout",
     "output_type": "stream",
     "text": [
      "<class 'pandas.core.frame.DataFrame'>\n",
      "Int64Index: 27414 entries, 3 to 76711\n",
      "Data columns (total 35 columns):\n",
      " #   Column                Non-Null Count  Dtype         \n",
      "---  ------                --------------  -----         \n",
      " 0   id                    27414 non-null  int64         \n",
      " 1   parcel                27414 non-null  int64         \n",
      " 2   logerror              27414 non-null  float64       \n",
      " 3   trans_date            27414 non-null  datetime64[ns]\n",
      " 4   heat_type             27013 non-null  object        \n",
      " 5   land_use_type         27414 non-null  object        \n",
      " 6   bathrooms             27414 non-null  float64       \n",
      " 7   bedrooms              27414 non-null  float64       \n",
      " 8   quality_type          27405 non-null  float64       \n",
      " 9   calc_bath_n_bed       27414 non-null  float64       \n",
      " 10  tot_sqft              27414 non-null  float64       \n",
      " 11  sqft_12               27414 non-null  float64       \n",
      " 12  fips                  27414 non-null  object        \n",
      " 13  full_baths            27414 non-null  float64       \n",
      " 14  hot_tub               27414 non-null  float64       \n",
      " 15  lat                   27414 non-null  float64       \n",
      " 16  lon                   27414 non-null  float64       \n",
      " 17  lot_sqft              27217 non-null  float64       \n",
      " 18  pools                 27414 non-null  float64       \n",
      " 19  county_landuse        27414 non-null  object        \n",
      " 20  zoning                27371 non-null  object        \n",
      " 21  raw_tract_and_block   27414 non-null  float64       \n",
      " 22  city_id               26909 non-null  float64       \n",
      " 23  county_id             27414 non-null  float64       \n",
      " 24  zip_code              27406 non-null  float64       \n",
      " 25  num_rooms             27414 non-null  float64       \n",
      " 26  units                 27387 non-null  float64       \n",
      " 27  year_built            27409 non-null  object        \n",
      " 28  building_tax_value    27395 non-null  float64       \n",
      " 29  tax_value             27414 non-null  float64       \n",
      " 30  year_assesed          27414 non-null  float64       \n",
      " 31  land_tax_value        27414 non-null  float64       \n",
      " 32  tax_amount            27411 non-null  float64       \n",
      " 33  tax_delinquency_flag  27414 non-null  float64       \n",
      " 34  tract_and_block       27376 non-null  float64       \n",
      "dtypes: datetime64[ns](1), float64(26), int64(2), object(6)\n",
      "memory usage: 7.5+ MB\n"
     ]
    }
   ],
   "source": [
    "la_droped = handle_missing_values(la)\n",
    "la_droped.info()"
   ]
  },
  {
   "cell_type": "code",
   "execution_count": null,
   "id": "18046d51",
   "metadata": {},
   "outputs": [],
   "source": []
  },
  {
   "cell_type": "code",
   "execution_count": null,
   "id": "7ddf999c",
   "metadata": {},
   "outputs": [],
   "source": []
  },
  {
   "cell_type": "code",
   "execution_count": 51,
   "id": "3609d17c",
   "metadata": {},
   "outputs": [
    {
     "name": "stdout",
     "output_type": "stream",
     "text": [
      "<class 'pandas.core.frame.DataFrame'>\n",
      "Int64Index: 39863 entries, 0 to 76711\n",
      "Data columns (total 35 columns):\n",
      " #   Column                Non-Null Count  Dtype         \n",
      "---  ------                --------------  -----         \n",
      " 0   id                    39863 non-null  int64         \n",
      " 1   parcel                39863 non-null  int64         \n",
      " 2   logerror              39863 non-null  float64       \n",
      " 3   trans_date            39863 non-null  datetime64[ns]\n",
      " 4   heat_type             27403 non-null  object        \n",
      " 5   land_use_type         39863 non-null  object        \n",
      " 6   bathrooms             39863 non-null  float64       \n",
      " 7   bedrooms              39863 non-null  float64       \n",
      " 8   quality_type          27405 non-null  float64       \n",
      " 9   calc_bath_n_bed       39857 non-null  float64       \n",
      " 10  tot_sqft              39863 non-null  float64       \n",
      " 11  sqft_12               39792 non-null  float64       \n",
      " 12  fips                  39863 non-null  object        \n",
      " 13  full_baths            39857 non-null  float64       \n",
      " 14  hot_tub               39863 non-null  float64       \n",
      " 15  lat                   39863 non-null  float64       \n",
      " 16  lon                   39863 non-null  float64       \n",
      " 17  lot_sqft              39659 non-null  float64       \n",
      " 18  pools                 39863 non-null  float64       \n",
      " 19  county_landuse        39863 non-null  object        \n",
      " 20  zoning                27371 non-null  object        \n",
      " 21  raw_tract_and_block   39863 non-null  float64       \n",
      " 22  city_id               39134 non-null  float64       \n",
      " 23  county_id             39863 non-null  float64       \n",
      " 24  zip_code              39847 non-null  float64       \n",
      " 25  num_rooms             39863 non-null  float64       \n",
      " 26  units                 27388 non-null  float64       \n",
      " 27  year_built            39849 non-null  object        \n",
      " 28  building_tax_value    39843 non-null  float64       \n",
      " 29  tax_value             39863 non-null  float64       \n",
      " 30  year_assesed          39863 non-null  float64       \n",
      " 31  land_tax_value        39863 non-null  float64       \n",
      " 32  tax_amount            39860 non-null  float64       \n",
      " 33  tax_delinquency_flag  39863 non-null  float64       \n",
      " 34  tract_and_block       39789 non-null  float64       \n",
      "dtypes: datetime64[ns](1), float64(26), int64(2), object(6)\n",
      "memory usage: 10.9+ MB\n"
     ]
    }
   ],
   "source": [
    "df= handle_missing_values(df)\n",
    "\n",
    "df.info()"
   ]
  },
  {
   "cell_type": "code",
   "execution_count": 52,
   "id": "c3de3feb",
   "metadata": {},
   "outputs": [
    {
     "name": "stdout",
     "output_type": "stream",
     "text": [
      "39863\n"
     ]
    },
    {
     "data": {
      "text/plain": [
       "heat_type             12460\n",
       "quality_type          12458\n",
       "calc_bath_n_bed           6\n",
       "sqft_12                  71\n",
       "full_baths                6\n",
       "lot_sqft                204\n",
       "zoning                12492\n",
       "city_id                 729\n",
       "zip_code                 16\n",
       "units                 12475\n",
       "year_built               14\n",
       "building_tax_value       20\n",
       "tax_amount                3\n",
       "tract_and_block          74\n",
       "dtype: int64"
      ]
     },
     "execution_count": 52,
     "metadata": {},
     "output_type": "execute_result"
    }
   ],
   "source": [
    "print(len(df))\n",
    "df.isnull().sum()[df.isnull().sum() > 0]"
   ]
  },
  {
   "cell_type": "code",
   "execution_count": 47,
   "id": "59264a5b",
   "metadata": {},
   "outputs": [
    {
     "name": "stdout",
     "output_type": "stream",
     "text": [
      "2753\n"
     ]
    },
    {
     "data": {
      "text/plain": [
       "fireplaces         509\n",
       "garages             36\n",
       "garage_sqft         36\n",
       "city_id              9\n",
       "zip_code             6\n",
       "year_built           8\n",
       "tract_and_block     13\n",
       "dtype: int64"
      ]
     },
     "execution_count": 47,
     "metadata": {},
     "output_type": "execute_result"
    }
   ],
   "source": [
    "print(len(vc_droped))\n",
    "vc_droped.isnull().sum()[vc_droped.isnull().sum() > 0]"
   ]
  },
  {
   "cell_type": "code",
   "execution_count": 48,
   "id": "cce228e0",
   "metadata": {},
   "outputs": [
    {
     "name": "stdout",
     "output_type": "stream",
     "text": [
      "9696\n"
     ]
    },
    {
     "data": {
      "text/plain": [
       "calc_bath_n_bed          6\n",
       "sqft_12                 71\n",
       "full_baths               6\n",
       "garages                247\n",
       "garage_sqft            247\n",
       "lot_sqft                 7\n",
       "city_id                215\n",
       "zip_code                 2\n",
       "year_built               1\n",
       "num_stories           2657\n",
       "building_tax_value       1\n",
       "tract_and_block         23\n",
       "dtype: int64"
      ]
     },
     "execution_count": 48,
     "metadata": {},
     "output_type": "execute_result"
    }
   ],
   "source": [
    "print(len(oc_droped))\n",
    "oc_droped.isnull().sum()[oc_droped.isnull().sum() > 0]"
   ]
  },
  {
   "cell_type": "code",
   "execution_count": 49,
   "id": "faf21c39",
   "metadata": {},
   "outputs": [
    {
     "name": "stdout",
     "output_type": "stream",
     "text": [
      "27414\n"
     ]
    },
    {
     "data": {
      "text/plain": [
       "heat_type             401\n",
       "quality_type            9\n",
       "lot_sqft              197\n",
       "zoning                 43\n",
       "city_id               505\n",
       "zip_code                8\n",
       "units                  27\n",
       "year_built              5\n",
       "building_tax_value     19\n",
       "tax_amount              3\n",
       "tract_and_block        38\n",
       "dtype: int64"
      ]
     },
     "execution_count": 49,
     "metadata": {},
     "output_type": "execute_result"
    }
   ],
   "source": [
    "print(len(la_droped))\n",
    "la_droped.isnull().sum()[la_droped.isnull().sum() > 0]"
   ]
  },
  {
   "cell_type": "code",
   "execution_count": 54,
   "id": "e702c2a1",
   "metadata": {},
   "outputs": [
    {
     "name": "stdout",
     "output_type": "stream",
     "text": [
      "<class 'pandas.core.frame.DataFrame'>\n",
      "Int64Index: 39863 entries, 0 to 76711\n",
      "Data columns (total 35 columns):\n",
      " #   Column                Non-Null Count  Dtype         \n",
      "---  ------                --------------  -----         \n",
      " 0   id                    39863 non-null  int64         \n",
      " 1   parcel                39863 non-null  int64         \n",
      " 2   logerror              39863 non-null  float64       \n",
      " 3   trans_date            39863 non-null  datetime64[ns]\n",
      " 4   heat_type             27403 non-null  object        \n",
      " 5   land_use_type         39863 non-null  object        \n",
      " 6   bathrooms             39863 non-null  float64       \n",
      " 7   bedrooms              39863 non-null  float64       \n",
      " 8   quality_type          27405 non-null  float64       \n",
      " 9   calc_bath_n_bed       39857 non-null  float64       \n",
      " 10  tot_sqft              39863 non-null  float64       \n",
      " 11  sqft_12               39792 non-null  float64       \n",
      " 12  fips                  39863 non-null  object        \n",
      " 13  full_baths            39857 non-null  float64       \n",
      " 14  hot_tub               39863 non-null  float64       \n",
      " 15  lat                   39863 non-null  float64       \n",
      " 16  lon                   39863 non-null  float64       \n",
      " 17  lot_sqft              39659 non-null  float64       \n",
      " 18  pools                 39863 non-null  float64       \n",
      " 19  county_landuse        39863 non-null  object        \n",
      " 20  zoning                27371 non-null  object        \n",
      " 21  raw_tract_and_block   39863 non-null  float64       \n",
      " 22  city_id               39134 non-null  float64       \n",
      " 23  county_id             39863 non-null  float64       \n",
      " 24  zip_code              39847 non-null  float64       \n",
      " 25  num_rooms             39863 non-null  float64       \n",
      " 26  units                 27388 non-null  float64       \n",
      " 27  year_built            39849 non-null  object        \n",
      " 28  building_tax_value    39843 non-null  float64       \n",
      " 29  tax_value             39863 non-null  float64       \n",
      " 30  year_assesed          39863 non-null  float64       \n",
      " 31  land_tax_value        39863 non-null  float64       \n",
      " 32  tax_amount            39860 non-null  float64       \n",
      " 33  tax_delinquency_flag  39863 non-null  float64       \n",
      " 34  tract_and_block       39789 non-null  float64       \n",
      "dtypes: datetime64[ns](1), float64(26), int64(2), object(6)\n",
      "memory usage: 10.9+ MB\n"
     ]
    }
   ],
   "source": [
    "\n",
    "df.info()"
   ]
  },
  {
   "cell_type": "code",
   "execution_count": null,
   "id": "58123dfb",
   "metadata": {},
   "outputs": [],
   "source": []
  },
  {
   "cell_type": "code",
   "execution_count": null,
   "id": "fa29284c",
   "metadata": {},
   "outputs": [],
   "source": []
  },
  {
   "cell_type": "markdown",
   "id": "695bcb5e",
   "metadata": {},
   "source": [
    "| Data Feature         | Description:              | \n",
    "|:---------------------|:--------------------------| \n",
    "| id                   | the id for the rows       | \n",
    "| parcel               | 14297519                  | \n",
    "| logerror             | 0.025594901758400002      | \n",
    "| trans_date           | 2017-01-01                | \n",
    "| ac_type              |                           | \n",
    "| arch_type            |                           | \n",
    "| build_type           |                           | \n",
    "| heat_type            |                           | \n",
    "| land_use_type        | Single Family Residential | \n",
    "| story_type           |                           | \n",
    "| construction_type    |                           | \n",
    "| basementsqft         | nan                       | \n",
    "| bathrooms            | 3.5                       | \n",
    "| bedrooms             | 4.0                       | \n",
    "| quality_type         | nan                       | \n",
    "| calc_bath_n_bed      | 3.5                       | \n",
    "| deck_type            | nan                       | \n",
    "| floor_1_sqft         | nan                       | \n",
    "| tot_sqft             | 3100.0                    | \n",
    "| sqft_12              | 3100.0                    | \n",
    "| sqft_13              | nan                       | \n",
    "| sqft_15              | nan                       | \n",
    "| sqft_50              | nan                       | \n",
    "| sqft_6               | nan                       | \n",
    "| fips                 | 6059.0                    | \n",
    "|fireplaces           | nan                       | \n",
    "| full_baths           | 3.0                       | \n",
    "| garages              | 2.0                       | \n",
    "| garage_sqft          | 633.0                     | \n",
    "| hot_tub              | nan                       | \n",
    "| lat                  | 33634931.0                | \n",
    "| lon                  | -117869207.0              | \n",
    "| lot_sqft             | 4506.0                    | \n",
    "| pools                | nan                       | \n",
    "| pool_sqft            | nan                       | \n",
    "| pool_id10            | nan                       | \n",
    "| pool_id2             | nan                       | \n",
    "| pool_id7             | nan                       | \n",
    "| county_landuse       | 122                       | \n",
    "| zoning               |                           | \n",
    "| raw_tract_and_block  | 60590630.072012           | \n",
    "| city_id              | 53571.0                   | \n",
    "| county_id            | 1286.0                    | \n",
    "| neighborhood         | nan                       | \n",
    "| zip_code             | 96978.0                   | \n",
    "| num_rooms            | 0.0                       | \n",
    "| stories_type         | nan                       | \n",
    "| three_quarter_baths  | 1.0                       | \n",
    "| units                | nan                       | \n",
    "| yard_sqft_17         | nan                       | \n",
    "| yard_sqft_26         | nan                       | \n",
    "| year_built           | 1998.0                    | \n",
    "| num_stories          | nan                       | \n",
    "| fireplace_flag       | nan                       | \n",
    "| building_tax_value   | 485713.0                  | \n",
    "| tax_value            | 1023282.0                 | \n",
    "| year_assesed         | 2016.0                    | \n",
    "| land_tax_value       | 537569.0                  | \n",
    "| tax_amount           | 11013.72                  | \n",
    "| tax_delinquency_flag |                           | \n",
    "| tax_delinquency_year | nan                       | \n",
    "| tract_and_block      | 60590630072012.0          | \n",
    "| tax_value_bins       | (761507.0, 49061236.0]    |\n",
    "\n"
   ]
  },
  {
   "cell_type": "code",
   "execution_count": null,
   "id": "b9fff382",
   "metadata": {},
   "outputs": [],
   "source": []
  },
  {
   "cell_type": "markdown",
   "id": "cb1c72e6",
   "metadata": {},
   "source": [
    "# FINAL CELL\n",
    "<br><br><br><br><br><br><br><br><br><br><br><br><br><br><br><br><br><br><br><br><br><br><br><br><br><br><br><br><br><br><br><br><br><br><br><br><br><br><br><br><br><br><br><br><br><br><br><br><br><br><br><br><br><br><br><br>"
   ]
  }
 ],
 "metadata": {
  "kernelspec": {
   "display_name": "Python 3 (ipykernel)",
   "language": "python",
   "name": "python3"
  },
  "language_info": {
   "codemirror_mode": {
    "name": "ipython",
    "version": 3
   },
   "file_extension": ".py",
   "mimetype": "text/x-python",
   "name": "python",
   "nbconvert_exporter": "python",
   "pygments_lexer": "ipython3",
   "version": "3.9.12"
  }
 },
 "nbformat": 4,
 "nbformat_minor": 5
}
