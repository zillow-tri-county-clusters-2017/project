{
 "cells": [
  {
   "cell_type": "code",
   "execution_count": 1,
   "id": "0a153853",
   "metadata": {},
   "outputs": [],
   "source": [
    "import pandas as pd\n",
    "import numpy as np\n",
    "from IPython.display import display, Markdown, Latex\n",
    "\n",
    "import matplotlib.pyplot as plt\n",
    "import seaborn as sns\n",
    "import plotly.express as px\n",
    "\n",
    "from wrangle import clean_zillow, summarize\n",
    "from viz import get_viz\n",
    "\n",
    "import warnings\n",
    "warnings.filterwarnings(\"ignore\")"
   ]
  },
  {
   "cell_type": "code",
   "execution_count": 2,
   "id": "6d23c890",
   "metadata": {},
   "outputs": [
    {
     "name": "stdout",
     "output_type": "stream",
     "text": [
      "Number of observations removed: 9964\n"
     ]
    }
   ],
   "source": [
    "df = clean_zillow()"
   ]
  },
  {
   "cell_type": "markdown",
   "id": "9d8c1eb8",
   "metadata": {},
   "source": [
    "### Change to cat_vars:\n",
    "\n",
    "- hot_tub (already 1 and 0)\n",
    "- calc_bath_n_bed \n",
    "- pools (already 1 and 0)\n",
    "- city_id\n",
    "- zip_code\n",
    "- num_rooms\n",
    "- tax_delinquency_flag\n",
    "- half_baths (already 1 and 0)\n",
    "- tract and block\n",
    "\n",
    "### change_values_first\n",
    "\n",
    "- trans_date\n",
    "- raw_tract_and_block (in the different fips)\n",
    "- "
   ]
  }
 ],
 "metadata": {
  "kernelspec": {
   "display_name": "Python 3 (ipykernel)",
   "language": "python",
   "name": "python3"
  },
  "language_info": {
   "codemirror_mode": {
    "name": "ipython",
    "version": 3
   },
   "file_extension": ".py",
   "mimetype": "text/x-python",
   "name": "python",
   "nbconvert_exporter": "python",
   "pygments_lexer": "ipython3",
   "version": "3.9.12"
  }
 },
 "nbformat": 4,
 "nbformat_minor": 5
}
