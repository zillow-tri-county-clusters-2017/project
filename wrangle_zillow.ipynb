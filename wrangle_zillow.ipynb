{
 "cells": [
  {
   "cell_type": "markdown",
   "id": "c1da5157",
   "metadata": {},
   "source": [
    "<a id=\"TOP\"> </a>\n",
    "<div class=\"alert alert-box alert-info\">\n",
    "</div>\n",
    "\n",
    "***"
   ]
  },
  {
   "cell_type": "markdown",
   "id": "7e927509",
   "metadata": {},
   "source": [
    "#  Wrangling Zillow\n",
    "\n",
    "- get_db_url()\n",
    "- gdb()\n",
    "- get_zillow()\n",
    "- nulls_by_row()\n",
    "- nulls_by_col()\n",
    "- summarize()\n",
    "- column_value_counts()\n",
    "- sfr()\n",
    "- clean_zillow()\n",
    "- split_data_continuous()\n",
    "- remove_outliers()\n",
    "- handle_missing_values()"
   ]
  },
  {
   "cell_type": "code",
   "execution_count": 4,
   "id": "d6329c95",
   "metadata": {},
   "outputs": [],
   "source": [
    "import pandas as pd\n",
    "import numpy as np\n",
    "from IPython.display import display, Markdown, Latex\n",
    "\n",
    "from wrangle import \\\n",
    "get_zillow,\\\n",
    "SFR,\\\n",
    "remove_outliers,\\\n",
    "summarize,\\\n",
    "column_value_counts,\\\n",
    "clean_zillow,\\\n",
    "split_data_continuous"
   ]
  },
  {
   "cell_type": "code",
   "execution_count": 5,
   "id": "038fa99e",
   "metadata": {},
   "outputs": [
    {
     "name": "stdout",
     "output_type": "stream",
     "text": [
      "Number of observations removed: 9964\n"
     ]
    }
   ],
   "source": [
    "df= clean_zillow()"
   ]
  },
  {
   "cell_type": "code",
   "execution_count": 6,
   "id": "2b1f33ff",
   "metadata": {
    "scrolled": false
   },
   "outputs": [
    {
     "data": {
      "text/markdown": [
       "\n",
       "    DataFrame .head():\n",
       "    -----------------\n",
       "|    |   id |   parcel |    logerror | trans_date          | bathrooms   | bedrooms   |   calc_bath_n_bed |   tot_sqft | fips               |   hot_tub |         lat |          lon |   lot_sqft |   pools |   county_landuse |   raw_tract_and_block |   city_id |   zip_code |   num_rooms |   year_built |   building_tax_value |        tax_value |   land_tax_value |   tax_amount |   tax_delinquency_flag |   tract_and_block |   half_baths |\n",
       "|---:|-----:|---------:|------------:|:--------------------|:------------|:-----------|------------------:|-----------:|:-------------------|----------:|------------:|-------------:|-----------:|--------:|-----------------:|----------------------:|----------:|-----------:|------------:|-------------:|---------------------:|-----------------:|-----------------:|-------------:|-----------------------:|------------------:|-------------:|\n",
       "|  0 |    0 | 14297519 |  0.0255949  | 2017-01-01 00:00:00 | _4_         | _4_        |               3.5 |       3100 | Orange County      |         0 | 3.36349e+07 | -1.17869e+08 |       4506 |       0 |              122 |           6.05906e+07 |     53571 |      96978 |           0 |         1998 |               485713 |      1.02328e+06 |           537569 |     11013.7  |                      0 |       6.05906e+13 |            1 |\n",
       "|  1 |    1 | 17052889 |  0.0556191  | 2017-01-01 00:00:00 | _1_         | _2_        |               1   |       1465 | Ventura County     |         0 | 3.44493e+07 | -1.19282e+08 |      12647 |       0 |             1110 |           6.111e+07   |     13091 |      97099 |           5 |         1967 |                88000 | 464000           |           376000 |      5672.48 |                      0 |       6.111e+13   |            0 |\n",
       "|  2 |    2 | 14186244 |  0.00538285 | 2017-01-01 00:00:00 | _2_         | _3_        |               2   |       1243 | Orange County      |         0 | 3.38862e+07 | -1.17823e+08 |       8432 |       1 |              122 |           6.05902e+07 |     21412 |      97078 |           6 |         1962 |                85289 | 564778           |           479489 |      6488.3  |                      0 |       6.05902e+13 |            0 |\n",
       "|  3 |    3 | 12177905 | -0.10341    | 2017-01-01 00:00:00 | _3_         | _4_        |               3   |       2376 | Los Angeles County |         0 | 3.42452e+07 | -1.18241e+08 |      13038 |       1 |             0101 |           6.0373e+07  |    396551 |      96330 |           0 |         1970 |               108918 | 145143           |            36225 |      1777.51 |                      0 |       6.0373e+13  |            0 |\n",
       "|  4 |    7 | 12069064 |  0.101723   | 2017-01-01 00:00:00 | _1_         | _2_        |               1   |        738 | Los Angeles County |         0 | 3.41492e+07 | -1.18239e+08 |       4214 |       0 |             0100 |           6.0373e+07  |     45457 |      96325 |           0 |         1922 |                18890 | 218552           |           199662 |      2366.08 |                      0 |       6.0373e+13  |            0 |\n",
       "    \n",
       "    DataFrame .info():\n",
       "    -----------------\n"
      ],
      "text/plain": [
       "<IPython.core.display.Markdown object>"
      ]
     },
     "metadata": {},
     "output_type": "display_data"
    },
    {
     "name": "stdout",
     "output_type": "stream",
     "text": [
      "<class 'pandas.core.frame.DataFrame'>\n",
      "RangeIndex: 41067 entries, 0 to 41066\n",
      "Data columns (total 27 columns):\n",
      " #   Column                Non-Null Count  Dtype         \n",
      "---  ------                --------------  -----         \n",
      " 0   id                    41067 non-null  int64         \n",
      " 1   parcel                41067 non-null  int64         \n",
      " 2   logerror              41067 non-null  float64       \n",
      " 3   trans_date            41067 non-null  datetime64[ns]\n",
      " 4   bathrooms             41067 non-null  object        \n",
      " 5   bedrooms              41067 non-null  object        \n",
      " 6   calc_bath_n_bed       41067 non-null  float64       \n",
      " 7   tot_sqft              41067 non-null  float64       \n",
      " 8   fips                  41067 non-null  object        \n",
      " 9   hot_tub               41067 non-null  float64       \n",
      " 10  lat                   41067 non-null  float64       \n",
      " 11  lon                   41067 non-null  float64       \n",
      " 12  lot_sqft              41067 non-null  float64       \n",
      " 13  pools                 41067 non-null  float64       \n",
      " 14  county_landuse        41067 non-null  object        \n",
      " 15  raw_tract_and_block   41067 non-null  float64       \n",
      " 16  city_id               41067 non-null  float64       \n",
      " 17  zip_code              41067 non-null  float64       \n",
      " 18  num_rooms             41067 non-null  float64       \n",
      " 19  year_built            41067 non-null  object        \n",
      " 20  building_tax_value    41067 non-null  float64       \n",
      " 21  tax_value             41067 non-null  float64       \n",
      " 22  land_tax_value        41067 non-null  float64       \n",
      " 23  tax_amount            41067 non-null  float64       \n",
      " 24  tax_delinquency_flag  41067 non-null  float64       \n",
      " 25  tract_and_block       41067 non-null  float64       \n",
      " 26  half_baths            41067 non-null  int64         \n",
      "dtypes: datetime64[ns](1), float64(18), int64(3), object(5)\n",
      "memory usage: 8.5+ MB\n",
      "None\n",
      "Number of Columns with nulls: 0\n"
     ]
    },
    {
     "data": {
      "text/markdown": [
       "\n",
       "    \n",
       "    DataFrame .describe():\n",
       "    -----------------\n",
       "|                      |   count |             mean |              std |             min |              25% |              50% |              75% |              max |\n",
       "|:---------------------|--------:|-----------------:|-----------------:|----------------:|-----------------:|-----------------:|-----------------:|-----------------:|\n",
       "| id                   |   41067 |  38942.1         |  22360.7         |     0           |  19609.5         |  39044           |  58307           |  77612           |\n",
       "| parcel               |   41067 |      1.29366e+07 |      1.69558e+06 |     1.07119e+07 |      1.15316e+07 |      1.26086e+07 |      1.40985e+07 |      1.72999e+07 |\n",
       "| logerror             |   41067 |      0.0161926   |      0.163331    |    -4.65542     |     -0.024449    |      0.00564142  |      0.0361682   |      3.17569     |\n",
       "| calc_bath_n_bed      |   41067 |      2.07496     |      0.732155    |     1           |      2           |      2           |      2.5         |      4.5         |\n",
       "| tot_sqft             |   41067 |   1665.89        |    600.515       |   152           |   1227           |   1540           |   1993           |   3858           |\n",
       "| hot_tub              |   41067 |      0.0193343   |      0.137699    |     0           |      0           |      0           |      0           |      1           |\n",
       "| lat                  |   41067 |      3.40167e+07 | 269551           |     3.33409e+07 |      3.38269e+07 |      3.39966e+07 |      3.41838e+07 |      3.47184e+07 |\n",
       "| lon                  |   41067 |     -1.18182e+08 | 346167           |    -1.19475e+08 |     -1.18371e+08 |     -1.18137e+08 |     -1.17935e+08 |     -1.17572e+08 |\n",
       "| lot_sqft             |   41067 |   6674.77        |   2184.96        |   804           |   5400           |   6500           |   7714           |  13555           |\n",
       "| pools                |   41067 |      0.160567    |      0.367135    |     0           |      0           |      0           |      0           |      1           |\n",
       "| raw_tract_and_block  |   41067 |      6.04905e+07 | 203415           |     6.0371e+07  |      6.0374e+07  |      6.03758e+07 |      6.05904e+07 |      6.11101e+07 |\n",
       "| city_id              |   41067 |  34440.2         |  52151.5         |  3491           |  12447           |  24812           |  40227           | 396556           |\n",
       "| zip_code             |   41067 |  96566.1         |    420.85        | 95982           |  96206           |  96415           |  96996           |  99675           |\n",
       "| num_rooms            |   41067 |      1.87888     |      3.06518     |     0           |      0           |      0           |      5           |     12           |\n",
       "| building_tax_value   |   41067 | 138982           |  97007           |   302           |  70552           | 115758           | 181000           | 858693           |\n",
       "| tax_value            |   41067 | 369482           | 248173           |  3254           | 171558           | 330461           | 512072           |      1.25422e+06 |\n",
       "| land_tax_value       |   41067 | 230500           | 189730           |  2250           |  62561           | 190732           | 346802           | 905416           |\n",
       "| tax_amount           |   41067 |   4603.06        |   2890.74        |    49.18        |   2424.73        |   4175.14        |   6154.77        |  24234.6         |\n",
       "| tax_delinquency_flag |   41067 |      0.0395451   |      0.19489     |     0           |      0           |      0           |      0           |      1           |\n",
       "| tract_and_block      |   41067 |      6.04905e+13 |      2.03412e+11 |     6.0371e+13  |      6.0374e+13  |      6.03758e+13 |      6.05904e+13 |      6.11101e+13 |\n",
       "| half_baths           |   41067 |      0.11323     |      0.316877    |     0           |      0           |      0           |      0           |      1           |\n",
       "    \n",
       "    Null Value Assessments:\n",
       "    -----------------\n",
       "        \n",
       "        Nulls By Column:\n",
       "| num_rows_missing   | percent_missing   |\n",
       "|--------------------|-------------------|\n",
       "    -----------------\n",
       "        \n",
       "        Nulls By Row:\n",
       "|    |   num_cols_missing |   percent_missing |   count |\n",
       "|---:|-------------------:|------------------:|--------:|\n",
       "|  0 |                  0 |                 0 |   41067 |\n",
       "    \n",
       "    DataFrame .value_counts():\n",
       "    -----------------\n",
       "    \n",
       "    "
      ],
      "text/plain": [
       "<IPython.core.display.Markdown object>"
      ]
     },
     "metadata": {},
     "output_type": "display_data"
    },
    {
     "name": "stdout",
     "output_type": "stream",
     "text": [
      "Column Name:  id \n",
      "--------------\n",
      "Numerical: Divided by Quartile\n",
      " -  5 bins\n"
     ]
    },
    {
     "data": {
      "text/markdown": [
       "|                    |   id |\n",
       "|:-------------------|-----:|\n",
       "| (-77.613, 15522.4] | 8109 |\n",
       "| (15522.4, 31044.8] | 8204 |\n",
       "| (31044.8, 46567.2] | 8241 |\n",
       "| (46567.2, 62089.6] | 8261 |\n",
       "| (62089.6, 77612.0] | 8252 |"
      ],
      "text/plain": [
       "<IPython.core.display.Markdown object>"
      ]
     },
     "metadata": {},
     "output_type": "display_data"
    },
    {
     "name": "stdout",
     "output_type": "stream",
     "text": [
      "\n",
      "\n",
      "-------------\n",
      "Column Name:  parcel \n",
      "--------------\n",
      "Numerical: Divided by Quartile\n",
      " -  5 bins\n"
     ]
    },
    {
     "data": {
      "text/markdown": [
       "|                            |   parcel |\n",
       "|:---------------------------|---------:|\n",
       "| (10705266.964, 12029462.0] |    13832 |\n",
       "| (12029462.0, 13347069.0]   |    12886 |\n",
       "| (13347069.0, 14664676.0]   |    11141 |\n",
       "| (14664676.0, 15982283.0]   |        9 |\n",
       "| (15982283.0, 17299890.0]   |     3199 |"
      ],
      "text/plain": [
       "<IPython.core.display.Markdown object>"
      ]
     },
     "metadata": {},
     "output_type": "display_data"
    },
    {
     "name": "stdout",
     "output_type": "stream",
     "text": [
      "\n",
      "\n",
      "-------------\n",
      "Column Name:  logerror \n",
      "--------------\n",
      "Numerical: Divided by Quartile\n",
      " -  5 bins\n"
     ]
    },
    {
     "data": {
      "text/markdown": [
       "|                              |   logerror |\n",
       "|:-----------------------------|-----------:|\n",
       "| (-4.664000000000001, -3.089] |          2 |\n",
       "| (-3.089, -1.523]             |         22 |\n",
       "| (-1.523, 0.0432]             |      32159 |\n",
       "| (0.0432, 1.609]              |       8815 |\n",
       "| (1.609, 3.176]               |         69 |"
      ],
      "text/plain": [
       "<IPython.core.display.Markdown object>"
      ]
     },
     "metadata": {},
     "output_type": "display_data"
    },
    {
     "name": "stdout",
     "output_type": "stream",
     "text": [
      "\n",
      "\n",
      "-------------\n",
      "Column Name:  trans_date \n",
      "--------------\n",
      "Numerical: Divided by Quartile\n",
      " -  5 bins\n"
     ]
    },
    {
     "data": {
      "text/markdown": [
       "|                                                      |   trans_date |\n",
       "|:-----------------------------------------------------|-------------:|\n",
       "| (2016-12-31 17:35:31.199999999, 2017-02-23 09:36:00] |         6228 |\n",
       "| (2017-02-23 09:36:00, 2017-04-17 19:12:00]           |         7979 |\n",
       "| (2017-04-17 19:12:00, 2017-06-10 04:48:00]           |         9604 |\n",
       "| (2017-06-10 04:48:00, 2017-08-02 14:24:00]           |         9663 |\n",
       "| (2017-08-02 14:24:00, 2017-09-25]                    |         7593 |"
      ],
      "text/plain": [
       "<IPython.core.display.Markdown object>"
      ]
     },
     "metadata": {},
     "output_type": "display_data"
    },
    {
     "name": "stdout",
     "output_type": "stream",
     "text": [
      "\n",
      "\n",
      "-------------\n",
      "Column Name:  bathrooms \n",
      "--------------\n",
      "Categorical:\n",
      " -  5 Categories\n"
     ]
    },
    {
     "data": {
      "text/markdown": [
       "|     |   bathrooms |\n",
       "|:----|------------:|\n",
       "| _2_ |       20269 |\n",
       "| _3_ |       10925 |\n",
       "| _1_ |        8471 |\n",
       "| _4_ |        1263 |\n",
       "| _5_ |         139 |"
      ],
      "text/plain": [
       "<IPython.core.display.Markdown object>"
      ]
     },
     "metadata": {},
     "output_type": "display_data"
    },
    {
     "name": "stdout",
     "output_type": "stream",
     "text": [
      "\n",
      "\n",
      "-------------\n",
      "Column Name:  bedrooms \n",
      "--------------\n",
      "Categorical:\n",
      " -  4 Categories\n"
     ]
    },
    {
     "data": {
      "text/markdown": [
       "|     |   bedrooms |\n",
       "|:----|-----------:|\n",
       "| _3_ |      20178 |\n",
       "| _4_ |      11429 |\n",
       "| _2_ |       7437 |\n",
       "| _5_ |       2023 |"
      ],
      "text/plain": [
       "<IPython.core.display.Markdown object>"
      ]
     },
     "metadata": {},
     "output_type": "display_data"
    },
    {
     "name": "stdout",
     "output_type": "stream",
     "text": [
      "\n",
      "\n",
      "-------------\n",
      "Column Name:  calc_bath_n_bed \n",
      "--------------\n",
      "Numerical: Divided by Quartile\n",
      " -  5 bins\n"
     ]
    },
    {
     "data": {
      "text/markdown": [
       "|              |   calc_bath_n_bed |\n",
       "|:-------------|------------------:|\n",
       "| (0.995, 1.7] |              9211 |\n",
       "| (1.7, 2.4]   |             19529 |\n",
       "| (2.4, 3.1]   |             10925 |\n",
       "| (3.1, 3.8]   |               439 |\n",
       "| (3.8, 4.5]   |               963 |"
      ],
      "text/plain": [
       "<IPython.core.display.Markdown object>"
      ]
     },
     "metadata": {},
     "output_type": "display_data"
    },
    {
     "name": "stdout",
     "output_type": "stream",
     "text": [
      "\n",
      "\n",
      "-------------\n",
      "Column Name:  tot_sqft \n",
      "--------------\n",
      "Numerical: Divided by Quartile\n",
      " -  5 bins\n"
     ]
    },
    {
     "data": {
      "text/markdown": [
       "|                  |   tot_sqft |\n",
       "|:-----------------|-----------:|\n",
       "| (148.293, 893.2] |       2033 |\n",
       "| (893.2, 1634.4]  |      21236 |\n",
       "| (1634.4, 2375.6] |      12365 |\n",
       "| (2375.6, 3116.8] |       4289 |\n",
       "| (3116.8, 3858.0] |       1144 |"
      ],
      "text/plain": [
       "<IPython.core.display.Markdown object>"
      ]
     },
     "metadata": {},
     "output_type": "display_data"
    },
    {
     "name": "stdout",
     "output_type": "stream",
     "text": [
      "\n",
      "\n",
      "-------------\n",
      "Column Name:  fips \n",
      "--------------\n",
      "Categorical:\n",
      " -  3 Categories\n"
     ]
    },
    {
     "data": {
      "text/markdown": [
       "|                    |   fips |\n",
       "|:-------------------|-------:|\n",
       "| Los Angeles County |  26718 |\n",
       "| Orange County      |  11150 |\n",
       "| Ventura County     |   3199 |"
      ],
      "text/plain": [
       "<IPython.core.display.Markdown object>"
      ]
     },
     "metadata": {},
     "output_type": "display_data"
    },
    {
     "name": "stdout",
     "output_type": "stream",
     "text": [
      "\n",
      "\n",
      "-------------\n",
      "Column Name:  hot_tub \n",
      "--------------\n",
      "Numerical: Divided by Quartile\n",
      " -  5 bins\n"
     ]
    },
    {
     "data": {
      "text/markdown": [
       "|               |   hot_tub |\n",
       "|:--------------|----------:|\n",
       "| (-0.002, 0.2] |     40273 |\n",
       "| (0.2, 0.4]    |         0 |\n",
       "| (0.4, 0.6]    |         0 |\n",
       "| (0.6, 0.8]    |         0 |\n",
       "| (0.8, 1.0]    |       794 |"
      ],
      "text/plain": [
       "<IPython.core.display.Markdown object>"
      ]
     },
     "metadata": {},
     "output_type": "display_data"
    },
    {
     "name": "stdout",
     "output_type": "stream",
     "text": [
      "\n",
      "\n",
      "-------------\n",
      "Column Name:  lat \n",
      "--------------\n",
      "Numerical: Divided by Quartile\n",
      " -  5 bins\n"
     ]
    },
    {
     "data": {
      "text/markdown": [
       "|                                  |   lat |\n",
       "|:---------------------------------|------:|\n",
       "| (33339473.494000003, 33616352.0] |  2219 |\n",
       "| (33616352.0, 33891853.0]         | 12463 |\n",
       "| (33891853.0, 34167354.0]         | 14830 |\n",
       "| (34167354.0, 34442855.0]         |  8342 |\n",
       "| (34442855.0, 34718356.0]         |  3213 |"
      ],
      "text/plain": [
       "<IPython.core.display.Markdown object>"
      ]
     },
     "metadata": {},
     "output_type": "display_data"
    },
    {
     "name": "stdout",
     "output_type": "stream",
     "text": [
      "\n",
      "\n",
      "-------------\n",
      "Column Name:  lon \n",
      "--------------\n",
      "Numerical: Divided by Quartile\n",
      " -  5 bins\n"
     ]
    },
    {
     "data": {
      "text/markdown": [
       "|                                |   lon |\n",
       "|:-------------------------------|------:|\n",
       "| (-119477167.928, -119094679.6] |  1177 |\n",
       "| (-119094679.6, -118714094.2]   |  1867 |\n",
       "| (-118714094.2, -118333508.8]   |  8774 |\n",
       "| (-118333508.8, -117952923.4]   | 18135 |\n",
       "| (-117952923.4, -117572338.0]   | 11114 |"
      ],
      "text/plain": [
       "<IPython.core.display.Markdown object>"
      ]
     },
     "metadata": {},
     "output_type": "display_data"
    },
    {
     "name": "stdout",
     "output_type": "stream",
     "text": [
      "\n",
      "\n",
      "-------------\n",
      "Column Name:  lot_sqft \n",
      "--------------\n",
      "Numerical: Divided by Quartile\n",
      " -  5 bins\n"
     ]
    },
    {
     "data": {
      "text/markdown": [
       "|                    |   lot_sqft |\n",
       "|:-------------------|-----------:|\n",
       "| (791.248, 3354.2]  |       2627 |\n",
       "| (3354.2, 5904.4]   |      11137 |\n",
       "| (5904.4, 8454.6]   |      20406 |\n",
       "| (8454.6, 11004.8]  |       5024 |\n",
       "| (11004.8, 13555.0] |       1873 |"
      ],
      "text/plain": [
       "<IPython.core.display.Markdown object>"
      ]
     },
     "metadata": {},
     "output_type": "display_data"
    },
    {
     "name": "stdout",
     "output_type": "stream",
     "text": [
      "\n",
      "\n",
      "-------------\n",
      "Column Name:  pools \n",
      "--------------\n",
      "Numerical: Divided by Quartile\n",
      " -  5 bins\n"
     ]
    },
    {
     "data": {
      "text/markdown": [
       "|               |   pools |\n",
       "|:--------------|--------:|\n",
       "| (-0.002, 0.2] |   34473 |\n",
       "| (0.2, 0.4]    |       0 |\n",
       "| (0.4, 0.6]    |       0 |\n",
       "| (0.6, 0.8]    |       0 |\n",
       "| (0.8, 1.0]    |    6594 |"
      ],
      "text/plain": [
       "<IPython.core.display.Markdown object>"
      ]
     },
     "metadata": {},
     "output_type": "display_data"
    },
    {
     "name": "stdout",
     "output_type": "stream",
     "text": [
      "\n",
      "\n",
      "-------------\n",
      "Column Name:  county_landuse \n",
      "--------------\n",
      "Categorical:\n",
      " -  14 Categories\n"
     ]
    },
    {
     "data": {
      "text/markdown": [
       "|      |   county_landuse |\n",
       "|:-----|-----------------:|\n",
       "| 0100 |            22564 |\n",
       "| 122  |            10495 |\n",
       "| 0101 |             3813 |\n",
       "| 1111 |             2733 |\n",
       "| 1    |              655 |\n",
       "| 1110 |              466 |\n",
       "| 0104 |              241 |\n",
       "| 010M |               33 |\n",
       "| 0108 |               31 |\n",
       "| 010G |               15 |\n",
       "| 0103 |               15 |\n",
       "| 0109 |                3 |\n",
       "| 0102 |                2 |\n",
       "| 0131 |                1 |"
      ],
      "text/plain": [
       "<IPython.core.display.Markdown object>"
      ]
     },
     "metadata": {},
     "output_type": "display_data"
    },
    {
     "name": "stdout",
     "output_type": "stream",
     "text": [
      "\n",
      "\n",
      "-------------\n",
      "Column Name:  raw_tract_and_block \n",
      "--------------\n",
      "Numerical: Divided by Quartile\n",
      " -  5 bins\n"
     ]
    },
    {
     "data": {
      "text/markdown": [
       "|                                    |   raw_tract_and_block |\n",
       "|:-----------------------------------|----------------------:|\n",
       "| (60370272.019999996, 60518827.081] |                 26718 |\n",
       "| (60518827.081, 60666643.061]       |                 11150 |\n",
       "| (60666643.061, 60814459.041]       |                     0 |\n",
       "| (60814459.041, 60962275.021]       |                     0 |\n",
       "| (60962275.021, 61110091.001]       |                  3199 |"
      ],
      "text/plain": [
       "<IPython.core.display.Markdown object>"
      ]
     },
     "metadata": {},
     "output_type": "display_data"
    },
    {
     "name": "stdout",
     "output_type": "stream",
     "text": [
      "\n",
      "\n",
      "-------------\n",
      "Column Name:  city_id \n",
      "--------------\n",
      "Numerical: Divided by Quartile\n",
      " -  5 bins\n"
     ]
    },
    {
     "data": {
      "text/markdown": [
       "|                               |   city_id |\n",
       "|:------------------------------|----------:|\n",
       "| (3097.9339999999997, 82104.0] |     39554 |\n",
       "| (82104.0, 160717.0]           |       784 |\n",
       "| (160717.0, 239330.0]          |         0 |\n",
       "| (239330.0, 317943.0]          |        15 |\n",
       "| (317943.0, 396556.0]          |       714 |"
      ],
      "text/plain": [
       "<IPython.core.display.Markdown object>"
      ]
     },
     "metadata": {},
     "output_type": "display_data"
    },
    {
     "name": "stdout",
     "output_type": "stream",
     "text": [
      "\n",
      "\n",
      "-------------\n",
      "Column Name:  zip_code \n",
      "--------------\n",
      "Numerical: Divided by Quartile\n",
      " -  5 bins\n"
     ]
    },
    {
     "data": {
      "text/markdown": [
       "|                      |   zip_code |\n",
       "|:---------------------|-----------:|\n",
       "| (95978.306, 96720.6] |      25805 |\n",
       "| (96720.6, 97459.2]   |      15261 |\n",
       "| (97459.2, 98197.8]   |          0 |\n",
       "| (98197.8, 98936.4]   |          0 |\n",
       "| (98936.4, 99675.0]   |          1 |"
      ],
      "text/plain": [
       "<IPython.core.display.Markdown object>"
      ]
     },
     "metadata": {},
     "output_type": "display_data"
    },
    {
     "name": "stdout",
     "output_type": "stream",
     "text": [
      "\n",
      "\n",
      "-------------\n",
      "Column Name:  num_rooms \n",
      "--------------\n",
      "Numerical: Divided by Quartile\n",
      " -  5 bins\n"
     ]
    },
    {
     "data": {
      "text/markdown": [
       "|                              |   num_rooms |\n",
       "|:-----------------------------|------------:|\n",
       "| (-0.013000000000000001, 2.4] |       29454 |\n",
       "| (2.4, 4.8]                   |         369 |\n",
       "| (4.8, 7.2]                   |        8312 |\n",
       "| (7.2, 9.6]                   |        2814 |\n",
       "| (9.6, 12.0]                  |         118 |"
      ],
      "text/plain": [
       "<IPython.core.display.Markdown object>"
      ]
     },
     "metadata": {},
     "output_type": "display_data"
    },
    {
     "name": "stdout",
     "output_type": "stream",
     "text": [
      "\n",
      "\n",
      "-------------\n",
      "Column Name:  year_built \n",
      "--------------\n",
      "Categorical:\n",
      " -  129 Categories\n",
      "\n",
      " 1955.0    1693\n",
      "1950.0    1438\n",
      "1954.0    1353\n",
      "1953.0    1310\n",
      "1956.0    1176\n",
      "          ... \n",
      "1897.0       1\n",
      "1878.0       1\n",
      "1882.0       1\n",
      "1894.0       1\n",
      "2016.0       1\n",
      "Name: year_built, Length: 129, dtype: int64\n",
      "\n",
      "\n",
      "-------------\n",
      "Column Name:  building_tax_value \n",
      "--------------\n",
      "Numerical: Divided by Quartile\n",
      " -  5 bins\n"
     ]
    },
    {
     "data": {
      "text/markdown": [
       "|                                |   building_tax_value |\n",
       "|:-------------------------------|---------------------:|\n",
       "| (-556.3919999999999, 171980.2] |                29670 |\n",
       "| (171980.2, 343658.4]           |                 9561 |\n",
       "| (343658.4, 515336.6]           |                 1583 |\n",
       "| (515336.6, 687014.8]           |                  232 |\n",
       "| (687014.8, 858693.0]           |                   21 |"
      ],
      "text/plain": [
       "<IPython.core.display.Markdown object>"
      ]
     },
     "metadata": {},
     "output_type": "display_data"
    },
    {
     "name": "stdout",
     "output_type": "stream",
     "text": [
      "\n",
      "\n",
      "-------------\n",
      "Column Name:  tax_value \n",
      "--------------\n",
      "Numerical: Divided by Quartile\n",
      " -  5 bins\n"
     ]
    },
    {
     "data": {
      "text/markdown": [
       "|                        |   tax_value |\n",
       "|:-----------------------|------------:|\n",
       "| (2003.034, 253447.0]   |       15515 |\n",
       "| (253447.0, 503640.0]   |       14944 |\n",
       "| (503640.0, 753833.0]   |        7142 |\n",
       "| (753833.0, 1004026.0]  |        2622 |\n",
       "| (1004026.0, 1254219.0] |         844 |"
      ],
      "text/plain": [
       "<IPython.core.display.Markdown object>"
      ]
     },
     "metadata": {},
     "output_type": "display_data"
    },
    {
     "name": "stdout",
     "output_type": "stream",
     "text": [
      "\n",
      "\n",
      "-------------\n",
      "Column Name:  land_tax_value \n",
      "--------------\n",
      "Numerical: Divided by Quartile\n",
      " -  5 bins\n"
     ]
    },
    {
     "data": {
      "text/markdown": [
       "|                      |   land_tax_value |\n",
       "|:---------------------|-----------------:|\n",
       "| (1346.833, 182883.2] |            19941 |\n",
       "| (182883.2, 363516.4] |            11750 |\n",
       "| (363516.4, 544149.6] |             6318 |\n",
       "| (544149.6, 724782.8] |             2275 |\n",
       "| (724782.8, 905416.0] |              783 |"
      ],
      "text/plain": [
       "<IPython.core.display.Markdown object>"
      ]
     },
     "metadata": {},
     "output_type": "display_data"
    },
    {
     "name": "stdout",
     "output_type": "stream",
     "text": [
      "\n",
      "\n",
      "-------------\n",
      "Column Name:  tax_amount \n",
      "--------------\n",
      "Numerical: Divided by Quartile\n",
      " -  5 bins\n"
     ]
    },
    {
     "data": {
      "text/markdown": [
       "|                        |   tax_amount |\n",
       "|:-----------------------|-------------:|\n",
       "| (24.994, 4886.268]     |        24650 |\n",
       "| (4886.268, 9723.356]   |        13885 |\n",
       "| (9723.356, 14560.444]  |         2359 |\n",
       "| (14560.444, 19397.532] |          165 |\n",
       "| (19397.532, 24234.62]  |            8 |"
      ],
      "text/plain": [
       "<IPython.core.display.Markdown object>"
      ]
     },
     "metadata": {},
     "output_type": "display_data"
    },
    {
     "name": "stdout",
     "output_type": "stream",
     "text": [
      "\n",
      "\n",
      "-------------\n",
      "Column Name:  tax_delinquency_flag \n",
      "--------------\n",
      "Numerical: Divided by Quartile\n",
      " -  5 bins\n"
     ]
    },
    {
     "data": {
      "text/markdown": [
       "|               |   tax_delinquency_flag |\n",
       "|:--------------|-----------------------:|\n",
       "| (-0.002, 0.2] |                  39443 |\n",
       "| (0.2, 0.4]    |                      0 |\n",
       "| (0.4, 0.6]    |                      0 |\n",
       "| (0.6, 0.8]    |                      0 |\n",
       "| (0.8, 1.0]    |                   1624 |"
      ],
      "text/plain": [
       "<IPython.core.display.Markdown object>"
      ]
     },
     "metadata": {},
     "output_type": "display_data"
    },
    {
     "name": "stdout",
     "output_type": "stream",
     "text": [
      "\n",
      "\n",
      "-------------\n",
      "Column Name:  tract_and_block \n",
      "--------------\n",
      "Numerical: Divided by Quartile\n",
      " -  5 bins\n"
     ]
    },
    {
     "data": {
      "text/markdown": [
       "|                                        |   tract_and_block |\n",
       "|:---------------------------------------|------------------:|\n",
       "| (60370272021099.984, 60518827081003.4] |             26718 |\n",
       "| (60518827081003.4, 60666643061006.8]   |             11150 |\n",
       "| (60666643061006.8, 60814459041010.2]   |                 0 |\n",
       "| (60814459041010.2, 60962275021013.6]   |                 0 |\n",
       "| (60962275021013.6, 61110091001017.0]   |              3199 |"
      ],
      "text/plain": [
       "<IPython.core.display.Markdown object>"
      ]
     },
     "metadata": {},
     "output_type": "display_data"
    },
    {
     "name": "stdout",
     "output_type": "stream",
     "text": [
      "\n",
      "\n",
      "-------------\n",
      "Column Name:  half_baths \n",
      "--------------\n",
      "Numerical: Divided by Quartile\n",
      " -  5 bins\n"
     ]
    },
    {
     "data": {
      "text/markdown": [
       "|               |   half_baths |\n",
       "|:--------------|-------------:|\n",
       "| (-0.002, 0.2] |        36417 |\n",
       "| (0.2, 0.4]    |            0 |\n",
       "| (0.4, 0.6]    |            0 |\n",
       "| (0.6, 0.8]    |            0 |\n",
       "| (0.8, 1.0]    |         4650 |"
      ],
      "text/plain": [
       "<IPython.core.display.Markdown object>"
      ]
     },
     "metadata": {},
     "output_type": "display_data"
    },
    {
     "name": "stdout",
     "output_type": "stream",
     "text": [
      "\n",
      "\n",
      "-------------\n",
      "-----------------\n",
      "---End of Line---\n"
     ]
    }
   ],
   "source": [
    "summarize(df,too_long=15, q=5)"
   ]
  },
  {
   "cell_type": "markdown",
   "id": "19daa53b",
   "metadata": {},
   "source": [
    "<!-- df.tract_and_block.max()\n",
    "\n",
    "df = df.drop(index= df[df.tract_and_block == df.tract_and_block.max()].index)\n",
    "\n",
    "df = df.drop(index= df[df.zip_code == df.zip_code.max()].index)\n",
    "\n",
    "df = df.drop(index= df[df.parcel == df.parcel.max()].index)\n",
    "\n",
    "df = df.drop(index= df[df.parcel == df.parcel.max()].index)\n",
    "\n",
    "df = df.drop(index= df[df.parcel == df.parcel.max()].index)\n",
    "\n",
    "print(len(df))\n",
    "df = df.drop(index= df[df.parcel == df.parcel.max()].index)\n",
    "# print(len(df.drop(index= df[df.parcel == df.parcel.max()].index)))\n",
    "print(len(df))\n",
    "\n",
    "print(len(df))\n",
    "df = df.drop(index= df[df.parcel == df.parcel.max()].index)\n",
    "# print(len(df.drop(index= df[df.parcel == df.parcel.max()].index)))\n",
    "print(len(df))\n",
    "\n",
    "df.isnull().sum(axis=0) -->"
   ]
  },
  {
   "cell_type": "markdown",
   "id": "a9917ec3",
   "metadata": {},
   "source": [
    "<!-- df = df.drop(columns= ['heat_type', 'quality_type', 'zoning'])\n",
    "\n",
    "df[df.isnull().sum(axis=1) == 1]\n",
    "\n",
    "df = df.drop(index= df[df.isnull().sum(axis=1) == 1].index) -->"
   ]
  },
  {
   "cell_type": "markdown",
   "id": "ecb0b8bd",
   "metadata": {},
   "source": [
    "<!-- df.full_baths.value_counts()\n",
    "\n",
    "df.full_baths = df.full_baths.map({1:'_1_',\n",
    "                   2:'_2_',\n",
    "                   3:'_3_',\n",
    "                   4:'_4_'\n",
    "                  })\n",
    "\n",
    "df[df.full_baths != df.bathrooms]\n",
    "\n",
    "df[['full_baths', 'bathrooms']][df.full_baths != df.bathrooms]\n",
    "\n",
    "df['half_baths'] = 0\n",
    "\n",
    "for i in df[df.full_baths != df.bathrooms].index:\n",
    "#     print(i)\n",
    "    df.half_baths[i] += 1\n",
    "    \n",
    "df.half_baths.value_counts() -->"
   ]
  },
  {
   "cell_type": "code",
   "execution_count": null,
   "id": "0e5bdbbb",
   "metadata": {},
   "outputs": [],
   "source": []
  },
  {
   "cell_type": "markdown",
   "id": "17f9971b",
   "metadata": {},
   "source": [
    "# FINAL CELL\n",
    "<br><br><br><br><br><br><br><br><br><br><br><br><br><br><br><br><br><br><br><br><br><br><br><br><br><br><br><br><br><br><br><br><br><br><br><br><br><br><br><br><br><br><br><br><br><br><br><br><br><br><br><br><br><br><br><br>"
   ]
  }
 ],
 "metadata": {
  "kernelspec": {
   "display_name": "Python 3 (ipykernel)",
   "language": "python",
   "name": "python3"
  },
  "language_info": {
   "codemirror_mode": {
    "name": "ipython",
    "version": 3
   },
   "file_extension": ".py",
   "mimetype": "text/x-python",
   "name": "python",
   "nbconvert_exporter": "python",
   "pygments_lexer": "ipython3",
   "version": "3.9.12"
  }
 },
 "nbformat": 4,
 "nbformat_minor": 5
}
