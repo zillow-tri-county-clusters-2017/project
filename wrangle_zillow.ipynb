{
 "cells": [
  {
   "cell_type": "markdown",
   "id": "c1da5157",
   "metadata": {},
   "source": [
    "<a id=\"TOP\"> </a>\n",
    "<div class=\"alert alert-box alert-info\">\n",
    "</div>\n",
    "\n",
    "***"
   ]
  },
  {
   "cell_type": "markdown",
   "id": "7e927509",
   "metadata": {},
   "source": [
    "#  Wrangling Zillow\n",
    "\n",
    "- get_db_url()\n",
    "- gdb()\n",
    "- get_zillow()\n",
    "- nulls_by_row()\n",
    "- nulls_by_col()\n",
    "- summarize()\n",
    "- column_value_counts()\n",
    "- sfr()\n",
    "- clean_zillow()\n",
    "- split_data_continuous()\n",
    "- remove_outliers()\n",
    "- handle_missing_values()"
   ]
  },
  {
   "cell_type": "code",
   "execution_count": 1,
   "id": "d6329c95",
   "metadata": {},
   "outputs": [],
   "source": [
    "import pandas as pd\n",
    "import numpy as np\n",
    "from IPython.display import display, Markdown, Latex\n",
    "\n",
    "from wrangle import \\\n",
    "get_zillow,\\\n",
    "SFR,\\\n",
    "remove_outliers,\\\n",
    "summarize,\\\n",
    "column_value_counts,\\\n",
    "clean_zillow,\\\n",
    "split_data_continuous"
   ]
  },
  {
   "cell_type": "code",
   "execution_count": 2,
   "id": "038fa99e",
   "metadata": {},
   "outputs": [],
   "source": [
    "df= get_zillow()"
   ]
  },
  {
   "cell_type": "code",
   "execution_count": 3,
   "id": "2b1f33ff",
   "metadata": {},
   "outputs": [
    {
     "data": {
      "text/markdown": [
       "\n",
       "    DataFrame .head():\n",
       "    -----------------\n",
       "|    |   id |   parcel |    logerror | trans_date          | ac_type   | arch_type   | build_type   | heat_type   | land_use_type             | story_type   | construction_type   |   basementsqft |   bathrooms |   bedrooms |   quality_type |   calc_bath_n_bed |   deck_type |   floor_1_sqft |   tot_sqft |   sqft_12 |   sqft_13 |   sqft_15 |   sqft_50 |   sqft_6 | fips               |   fireplaces |   full_baths |   garages |   garage_sqft |   hot_tub |         lat |          lon |   lot_sqft |   pools |   pool_sqft |   pool_id10 |   pool_id2 |   pool_id7 | county_landuse   | zoning     |   raw_tract_and_block |   city_id |   county_id |   neighborhood |   zip_code |   num_rooms |   stories_type |   three_quarter_baths |   units |   yard_sqft_17 |   yard_sqft_26 |   year_built |   num_stories |   fireplace_flag |   building_tax_value |        tax_value |   year_assesed |   land_tax_value |   tax_amount | tax_delinquency_flag   |   tax_delinquency_year |   tract_and_block |\n",
       "|---:|-----:|---------:|------------:|:--------------------|:----------|:------------|:-------------|:------------|:--------------------------|:-------------|:--------------------|---------------:|------------:|-----------:|---------------:|------------------:|------------:|---------------:|-----------:|----------:|----------:|----------:|----------:|---------:|:-------------------|-------------:|-------------:|----------:|--------------:|----------:|------------:|-------------:|-----------:|--------:|------------:|------------:|-----------:|-----------:|:-----------------|:-----------|----------------------:|----------:|------------:|---------------:|-----------:|------------:|---------------:|----------------------:|--------:|---------------:|---------------:|-------------:|--------------:|-----------------:|---------------------:|-----------------:|---------------:|-----------------:|-------------:|:-----------------------|-----------------------:|------------------:|\n",
       "|  0 |    0 | 14297519 |  0.0255949  | 2017-01-01 00:00:00 |           |             |              |             | Single Family Residential |              |                     |            nan |         3.5 |          4 |            nan |               3.5 |         nan |            nan |       3100 |      3100 |       nan |       nan |       nan |      nan | Orange County      |          nan |            3 |         2 |           633 |       nan | 3.36349e+07 | -1.17869e+08 |       4506 |     nan |         nan |         nan |        nan |        nan | 122              |            |           6.05906e+07 |     53571 |        1286 |            nan |      96978 |           0 |            nan |                     1 |     nan |            nan |            nan |         1998 |           nan |              nan |               485713 |      1.02328e+06 |           2016 |           537569 |     11013.7  |                        |                    nan |       6.05906e+13 |\n",
       "|  1 |    1 | 17052889 |  0.0556191  | 2017-01-01 00:00:00 |           |             |              |             | Single Family Residential |              |                     |            nan |         1   |          2 |            nan |               1   |         nan |           1465 |       1465 |      1465 |       nan |       nan |      1465 |      nan | Ventura County     |            1 |            1 |         1 |             0 |       nan | 3.44493e+07 | -1.19282e+08 |      12647 |     nan |         nan |         nan |        nan |        nan | 1110             |            |           6.111e+07   |     13091 |        2061 |            nan |      97099 |           5 |            nan |                   nan |     nan |            nan |            nan |         1967 |             1 |              nan |                88000 | 464000           |           2016 |           376000 |      5672.48 |                        |                    nan |       6.111e+13   |\n",
       "|  2 |    2 | 14186244 |  0.00538285 | 2017-01-01 00:00:00 |           |             |              |             | Single Family Residential |              |                     |            nan |         2   |          3 |            nan |               2   |         nan |            nan |       1243 |      1243 |       nan |       nan |       nan |      nan | Orange County      |          nan |            2 |         2 |           440 |       nan | 3.38862e+07 | -1.17823e+08 |       8432 |       1 |         nan |         nan |        nan |          1 | 122              |            |           6.05902e+07 |     21412 |        1286 |            nan |      97078 |           6 |            nan |                   nan |     nan |            nan |            nan |         1962 |             1 |              nan |                85289 | 564778           |           2016 |           479489 |      6488.3  |                        |                    nan |       6.05902e+13 |\n",
       "|  3 |    3 | 12177905 | -0.10341    | 2017-01-01 00:00:00 |           |             |              | Central     | Single Family Residential |              |                     |            nan |         3   |          4 |              8 |               3   |         nan |            nan |       2376 |      2376 |       nan |       nan |       nan |      nan | Los Angeles County |          nan |            3 |       nan |           nan |       nan | 3.42452e+07 | -1.18241e+08 |      13038 |       1 |         nan |         nan |        nan |          1 | 0101             | LCR110000* |           6.0373e+07  |    396551 |        3101 |            nan |      96330 |           0 |            nan |                   nan |       1 |            nan |            nan |         1970 |           nan |              nan |               108918 | 145143           |           2016 |            36225 |      1777.51 |                        |                    nan |       6.0373e+13  |\n",
       "|  4 |    4 | 10887214 |  0.00694036 | 2017-01-01 00:00:00 | Central   |             |              | Central     | Condominium               |              |                     |            nan |         3   |          3 |              8 |               3   |         nan |            nan |       1312 |      1312 |       nan |       nan |       nan |      nan | Los Angeles County |          nan |            3 |       nan |           nan |       nan | 3.41851e+07 | -1.18415e+08 |     278581 |       1 |         nan |         nan |        nan |          1 | 010C             | LAR3       |           6.03712e+07 |     12447 |        3101 |         268548 |      96451 |           0 |            nan |                   nan |       1 |            nan |            nan |         1964 |           nan |              nan |                73681 | 119407           |           2016 |            45726 |      1533.89 |                        |                    nan |       6.03712e+13 |\n",
       "    \n",
       "    DataFrame .info():\n",
       "    -----------------\n"
      ],
      "text/plain": [
       "<IPython.core.display.Markdown object>"
      ]
     },
     "metadata": {},
     "output_type": "display_data"
    },
    {
     "name": "stdout",
     "output_type": "stream",
     "text": [
      "<class 'pandas.core.frame.DataFrame'>\n",
      "Int64Index: 76521 entries, 0 to 76711\n",
      "Data columns (total 62 columns):\n",
      " #   Column                Non-Null Count  Dtype         \n",
      "---  ------                --------------  -----         \n",
      " 0   id                    76521 non-null  int64         \n",
      " 1   parcel                76521 non-null  int64         \n",
      " 2   logerror              76521 non-null  float64       \n",
      " 3   trans_date            76521 non-null  datetime64[ns]\n",
      " 4   ac_type               24783 non-null  object        \n",
      " 5   arch_type             206 non-null    object        \n",
      " 6   build_type            0 non-null      object        \n",
      " 7   heat_type             49185 non-null  object        \n",
      " 8   land_use_type         76521 non-null  object        \n",
      " 9   story_type            50 non-null     object        \n",
      " 10  construction_type     222 non-null    object        \n",
      " 11  basementsqft          50 non-null     float64       \n",
      " 12  bathrooms             76521 non-null  float64       \n",
      " 13  bedrooms              76521 non-null  float64       \n",
      " 14  quality_type          49422 non-null  float64       \n",
      " 15  calc_bath_n_bed       76505 non-null  float64       \n",
      " 16  deck_type             612 non-null    float64       \n",
      " 17  floor_1_sqft          6006 non-null   float64       \n",
      " 18  tot_sqft              76521 non-null  float64       \n",
      " 19  sqft_12               73390 non-null  float64       \n",
      " 20  sqft_13               26 non-null     float64       \n",
      " 21  sqft_15               2927 non-null   float64       \n",
      " 22  sqft_50               6006 non-null   float64       \n",
      " 23  sqft_6                178 non-null    float64       \n",
      " 24  fips                  76521 non-null  object        \n",
      " 25  fireplaces            8247 non-null   float64       \n",
      " 26  full_baths            76505 non-null  float64       \n",
      " 27  garages               25287 non-null  float64       \n",
      " 28  garage_sqft           25287 non-null  float64       \n",
      " 29  hot_tub               1538 non-null   float64       \n",
      " 30  lat                   76521 non-null  float64       \n",
      " 31  lon                   76521 non-null  float64       \n",
      " 32  lot_sqft              68390 non-null  float64       \n",
      " 33  pools                 16048 non-null  float64       \n",
      " 34  pool_sqft             862 non-null    float64       \n",
      " 35  pool_id10             464 non-null    float64       \n",
      " 36  pool_id2              1074 non-null   float64       \n",
      " 37  pool_id7              14953 non-null  float64       \n",
      " 38  county_landuse        76521 non-null  object        \n",
      " 39  zoning                49917 non-null  object        \n",
      " 40  raw_tract_and_block   76521 non-null  float64       \n",
      " 41  city_id               75075 non-null  float64       \n",
      " 42  county_id             76521 non-null  float64       \n",
      " 43  neighborhood          30526 non-null  float64       \n",
      " 44  zip_code              76477 non-null  float64       \n",
      " 45  num_rooms             76521 non-null  float64       \n",
      " 46  stories_type          50 non-null     float64       \n",
      " 47  three_quarter_baths   10094 non-null  float64       \n",
      " 48  units                 49985 non-null  float64       \n",
      " 49  yard_sqft_17          2377 non-null   float64       \n",
      " 50  yard_sqft_26          70 non-null     float64       \n",
      " 51  year_built            76464 non-null  object        \n",
      " 52  num_stories           17336 non-null  float64       \n",
      " 53  fireplace_flag        172 non-null    float64       \n",
      " 54  building_tax_value    76437 non-null  float64       \n",
      " 55  tax_value             76521 non-null  float64       \n",
      " 56  year_assesed          76521 non-null  float64       \n",
      " 57  land_tax_value        76521 non-null  float64       \n",
      " 58  tax_amount            76516 non-null  float64       \n",
      " 59  tax_delinquency_flag  2852 non-null   object        \n",
      " 60  tax_delinquency_year  2852 non-null   float64       \n",
      " 61  tract_and_block       76301 non-null  float64       \n",
      "dtypes: datetime64[ns](1), float64(47), int64(2), object(12)\n",
      "memory usage: 36.8+ MB\n",
      "None\n",
      "Number of Columns with nulls: 44\n"
     ]
    },
    {
     "data": {
      "text/markdown": [
       "\n",
       "    \n",
       "    DataFrame .describe():\n",
       "    -----------------\n",
       "|                      |   count |             mean |              std |             min |              25% |              50% |              75% |              max |\n",
       "|:---------------------|--------:|-----------------:|-----------------:|----------------:|-----------------:|-----------------:|-----------------:|-----------------:|\n",
       "| id                   |   76521 |  38851.4         |  22404.5         |     0           |  19465           |  38894           |  58255           |  77612           |\n",
       "| parcel               |   76521 |      1.29929e+07 |      3.31108e+06 |     1.07119e+07 |      1.15321e+07 |      1.25273e+07 |      1.42094e+07 |      1.67689e+08 |\n",
       "| logerror             |   76521 |      0.016456    |      0.168209    |    -4.65542     |     -0.0242734   |      0.0066161   |      0.0390554   |      5.263       |\n",
       "| basementsqft         |      50 |    679.72        |    689.704       |    38           |    273           |    515           |    796.5         |   3560           |\n",
       "| bathrooms            |   76521 |      2.32044     |      0.978789    |     1           |      2           |      2           |      3           |     18           |\n",
       "| bedrooms             |   76521 |      3.08681     |      1.09967     |     1           |      2           |      3           |      4           |     16           |\n",
       "| quality_type         |   49422 |      6.53428     |      1.7211      |     1           |      6           |      6           |      8           |     12           |\n",
       "| calc_bath_n_bed      |   76505 |      2.32044     |      0.978795    |     1           |      2           |      2           |      3           |     18           |\n",
       "| deck_type            |     612 |     66           |      0           |    66           |     66           |     66           |     66           |     66           |\n",
       "| floor_1_sqft         |    6006 |   1364.5         |    668.634       |    44           |    954.25        |   1256           |   1614.75        |   6912           |\n",
       "| tot_sqft             |   76521 |   1784.13        |    940.759       |   152           |   1184           |   1543           |   2109           |  21929           |\n",
       "| sqft_12              |   73390 |   1763.08        |    932.694       |   152           |   1175           |   1525           |   2077           |  21929           |\n",
       "| sqft_13              |      26 |   1375.38        |    128.218       |  1056           |   1344           |   1440           |   1440           |   1560           |\n",
       "| sqft_15              |    2927 |   2347.84        |    968.766       |   598           |   1629.5         |   2100           |   2839.5         |   7990           |\n",
       "| sqft_50              |    6006 |   1379.8         |    724.192       |    44           |    956           |   1259           |   1618.75        |  12467           |\n",
       "| sqft_6               |     178 |   1250.69        |    809.124       |   380           |    790.75        |    982.5         |   1318.25        |   5598           |\n",
       "| fireplaces           |    8247 |      1.18989     |      0.489105    |     1           |      1           |      1           |      1           |      5           |\n",
       "| full_baths           |   76505 |      2.25384     |      0.965785    |     1           |      2           |      2           |      3           |     18           |\n",
       "| garages              |   25287 |      1.82667     |      0.572833    |     0           |      2           |      2           |      2           |     14           |\n",
       "| garage_sqft          |   25287 |    352.331       |    260.98        |     0           |      0           |    437           |    493           |   4251           |\n",
       "| hot_tub              |    1538 |      1           |      0           |     1           |      1           |      1           |      1           |      1           |\n",
       "| lat                  |   76521 |      3.40092e+07 | 265422           |     3.33395e+07 |      3.38157e+07 |      3.40225e+07 |      3.4175e+07  |      3.48188e+07 |\n",
       "| lon                  |   76521 |     -1.18203e+08 | 358549           |    -1.19475e+08 |     -1.18416e+08 |     -1.1818e+08  |     -1.17929e+08 |     -1.17555e+08 |\n",
       "| lot_sqft             |   68390 |  29820.3         | 123294           |   236           |   5700           |   7201           |  11744.5         |      6.97101e+06 |\n",
       "| pools                |   16048 |      1           |      0           |     1           |      1           |      1           |      1           |      1           |\n",
       "| pool_sqft            |     862 |    518.092       |    156.166       |    24           |    424           |    500           |    600           |   1500           |\n",
       "| pool_id10            |     464 |      1           |      0           |     1           |      1           |      1           |      1           |      1           |\n",
       "| pool_id2             |    1074 |      1           |      0           |     1           |      1           |      1           |      1           |      1           |\n",
       "| pool_id7             |   14953 |      1           |      0           |     1           |      1           |      1           |      1           |      1           |\n",
       "| raw_tract_and_block  |   76521 |      6.04905e+07 | 205236           |     6.0371e+07  |      6.03731e+07 |      6.0376e+07  |      6.05904e+07 |      6.11101e+07 |\n",
       "| city_id              |   75075 |  33674           |  47227.3         |  3491           |  12447           |  25218           |  45457           | 396556           |\n",
       "| county_id            |   76521 |   2537.03        |    800.745       |  1286           |   1286           |   3101           |   3101           |   3101           |\n",
       "| neighborhood         |   30526 | 187034           | 165175           |  6952           |  41466           | 118825           | 274765           | 764167           |\n",
       "| zip_code             |   76477 |  96587           |   3819.19        | 95982           |  96193           |  96389           |  96986           | 399675           |\n",
       "| num_rooms            |   76521 |      1.49141     |      2.83431     |     0           |      0           |      0           |      0           |     15           |\n",
       "| stories_type         |      50 |      7           |      0           |     7           |      7           |      7           |      7           |      7           |\n",
       "| three_quarter_baths  |   10094 |      1.00961     |      0.118642    |     1           |      1           |      1           |      1           |      7           |\n",
       "| units                |   49985 |      1.09327     |      0.421759    |     1           |      1           |      1           |      1           |      6           |\n",
       "| yard_sqft_17         |    2377 |    305.218       |    238.711       |    11           |    170           |    250           |    364           |   3191           |\n",
       "| yard_sqft_26         |      70 |    216.386       |    190.178       |    12           |     61.5         |    164.5         |    310.5         |    868           |\n",
       "| num_stories          |   17336 |      1.42957     |      0.544421    |     1           |      1           |      1           |      2           |      6           |\n",
       "| fireplace_flag       |     172 |      1           |      0           |     1           |      1           |      1           |      1           |      1           |\n",
       "| building_tax_value   |   76437 | 188788           | 223511           |    44           |  84476           | 136734           | 218767           |      9.1649e+06  |\n",
       "| tax_value            |   76521 | 488694           | 647844           |  1000           | 207172           | 359000           | 568540           |      4.90612e+07 |\n",
       "| year_assesed         |   76521 |   2016           |      0           |  2016           |   2016           |   2016           |   2016           |   2016           |\n",
       "| land_tax_value       |   76521 | 300114           | 490350           |   161           |  85504           | 203559           | 366162           |      4.89522e+07 |\n",
       "| tax_amount           |   76516 |   5979.33        |   7554.89        |    19.92        |   2720.42        |   4451.27        |   6922           | 586639           |\n",
       "| tax_delinquency_year |    2852 |     14.087       |      2.19198     |     3           |     14           |     15           |     15           |     99           |\n",
       "| tract_and_block      |   76301 |      6.0496e+13  |      1.54339e+12 |     6.0371e+13  |      6.03731e+13 |      6.0376e+13  |      6.05904e+13 |      4.8303e+14  |\n",
       "    \n",
       "    Null Value Assessments:\n",
       "    -----------------\n",
       "        \n",
       "        Nulls By Column:\n",
       "|                      |   num_rows_missing |   percent_missing |\n",
       "|:---------------------|-------------------:|------------------:|\n",
       "| ac_type              |              51738 |       67.6128     |\n",
       "| arch_type            |              76315 |       99.7308     |\n",
       "| build_type           |              76521 |      100          |\n",
       "| heat_type            |              27336 |       35.7235     |\n",
       "| story_type           |              76471 |       99.9347     |\n",
       "| construction_type    |              76299 |       99.7099     |\n",
       "| basementsqft         |              76471 |       99.9347     |\n",
       "| quality_type         |              27099 |       35.4138     |\n",
       "| calc_bath_n_bed      |                 16 |        0.0209093  |\n",
       "| deck_type            |              75909 |       99.2002     |\n",
       "| floor_1_sqft         |              70515 |       92.1512     |\n",
       "| sqft_12              |               3131 |        4.09169    |\n",
       "| sqft_13              |              76495 |       99.966      |\n",
       "| sqft_15              |              73594 |       96.1749     |\n",
       "| sqft_50              |              70515 |       92.1512     |\n",
       "| sqft_6               |              76343 |       99.7674     |\n",
       "| fireplaces           |              68274 |       89.2226     |\n",
       "| full_baths           |                 16 |        0.0209093  |\n",
       "| garages              |              51234 |       66.9542     |\n",
       "| garage_sqft          |              51234 |       66.9542     |\n",
       "| hot_tub              |              74983 |       97.9901     |\n",
       "| lot_sqft             |               8131 |       10.6258     |\n",
       "| pools                |              60473 |       79.028      |\n",
       "| pool_sqft            |              75659 |       98.8735     |\n",
       "| pool_id10            |              76057 |       99.3936     |\n",
       "| pool_id2             |              75447 |       98.5965     |\n",
       "| pool_id7             |              61568 |       80.459      |\n",
       "| zoning               |              26604 |       34.7669     |\n",
       "| city_id              |               1446 |        1.88968    |\n",
       "| neighborhood         |              45995 |       60.1077     |\n",
       "| zip_code             |                 44 |        0.0575006  |\n",
       "| stories_type         |              76471 |       99.9347     |\n",
       "| three_quarter_baths  |              66427 |       86.8088     |\n",
       "| units                |              26536 |       34.6781     |\n",
       "| yard_sqft_17         |              74144 |       96.8937     |\n",
       "| yard_sqft_26         |              76451 |       99.9085     |\n",
       "| year_built           |                 57 |        0.0744894  |\n",
       "| num_stories          |              59185 |       77.3448     |\n",
       "| fireplace_flag       |              76349 |       99.7752     |\n",
       "| building_tax_value   |                 84 |        0.109774   |\n",
       "| tax_amount           |                  5 |        0.00653415 |\n",
       "| tax_delinquency_flag |              73669 |       96.2729     |\n",
       "| tax_delinquency_year |              73669 |       96.2729     |\n",
       "| tract_and_block      |                220 |        0.287503   |\n",
       "    -----------------\n",
       "        \n",
       "        Nulls By Row:\n",
       "|    |   num_cols_missing |   percent_missing |   count |\n",
       "|---:|-------------------:|------------------:|--------:|\n",
       "|  0 |                 19 |           30.6452 |       2 |\n",
       "|  1 |                 20 |           32.2581 |       3 |\n",
       "|  2 |                 21 |           33.871  |      13 |\n",
       "|  3 |                 22 |           35.4839 |      79 |\n",
       "|  4 |                 23 |           37.0968 |     265 |\n",
       "|  5 |                 24 |           38.7097 |     606 |\n",
       "|  6 |                 25 |           40.3226 |     656 |\n",
       "|  7 |                 26 |           41.9355 |    5740 |\n",
       "|  8 |                 27 |           43.5484 |    7939 |\n",
       "|  9 |                 28 |           45.1613 |   12352 |\n",
       "| 10 |                 29 |           46.7742 |   20596 |\n",
       "| 11 |                 30 |           48.3871 |   16035 |\n",
       "| 12 |                 31 |           50      |    6314 |\n",
       "| 13 |                 32 |           51.6129 |    3458 |\n",
       "| 14 |                 33 |           53.2258 |    2043 |\n",
       "| 15 |                 34 |           54.8387 |     246 |\n",
       "| 16 |                 35 |           56.4516 |     168 |\n",
       "| 17 |                 36 |           58.0645 |       6 |\n",
       "    \n",
       "    DataFrame .value_counts():\n",
       "    -----------------\n",
       "    \n",
       "    "
      ],
      "text/plain": [
       "<IPython.core.display.Markdown object>"
      ]
     },
     "metadata": {},
     "output_type": "display_data"
    },
    {
     "name": "stdout",
     "output_type": "stream",
     "text": [
      "Column Name:  id \n",
      "--------------\n",
      "Numerical: Divided by Quartile\n",
      " -  5 bins\n"
     ]
    },
    {
     "data": {
      "text/markdown": [
       "|                    |    id |\n",
       "|:-------------------|------:|\n",
       "| (-77.613, 15522.4] | 15266 |\n",
       "| (15522.4, 31044.8] | 15274 |\n",
       "| (31044.8, 46567.2] | 15297 |\n",
       "| (46567.2, 62089.6] | 15344 |\n",
       "| (62089.6, 77612.0] | 15340 |"
      ],
      "text/plain": [
       "<IPython.core.display.Markdown object>"
      ]
     },
     "metadata": {},
     "output_type": "display_data"
    },
    {
     "name": "stdout",
     "output_type": "stream",
     "text": [
      "\n",
      "\n",
      "-------------\n",
      "Column Name:  parcel \n",
      "--------------\n",
      "Numerical: Divided by Quartile\n",
      " -  5 bins\n"
     ]
    },
    {
     "data": {
      "text/markdown": [
       "|                            |   parcel |\n",
       "|:---------------------------|---------:|\n",
       "| (10554878.322, 42107190.4] |    76494 |\n",
       "| (42107190.4, 73502525.8]   |        0 |\n",
       "| (73502525.8, 104897861.2]  |        2 |\n",
       "| (104897861.2, 136293196.6] |        0 |\n",
       "| (136293196.6, 167688532.0] |       25 |"
      ],
      "text/plain": [
       "<IPython.core.display.Markdown object>"
      ]
     },
     "metadata": {},
     "output_type": "display_data"
    },
    {
     "name": "stdout",
     "output_type": "stream",
     "text": [
      "\n",
      "\n",
      "-------------\n",
      "Column Name:  logerror \n",
      "--------------\n",
      "Numerical: Divided by Quartile\n",
      " -  5 bins\n"
     ]
    },
    {
     "data": {
      "text/markdown": [
       "|                  |   logerror |\n",
       "|:-----------------|-----------:|\n",
       "| (-4.666, -2.672] |          4 |\n",
       "| (-2.672, -0.688] |        171 |\n",
       "| (-0.688, 1.296]  |      76181 |\n",
       "| (1.296, 3.279]   |        163 |\n",
       "| (3.279, 5.263]   |          2 |"
      ],
      "text/plain": [
       "<IPython.core.display.Markdown object>"
      ]
     },
     "metadata": {},
     "output_type": "display_data"
    },
    {
     "name": "stdout",
     "output_type": "stream",
     "text": [
      "\n",
      "\n",
      "-------------\n",
      "Column Name:  trans_date \n",
      "--------------\n",
      "Numerical: Divided by Quartile\n",
      " -  5 bins\n"
     ]
    },
    {
     "data": {
      "text/markdown": [
       "|                                                      |   trans_date |\n",
       "|:-----------------------------------------------------|-------------:|\n",
       "| (2016-12-31 17:35:31.199999999, 2017-02-23 09:36:00] |        11821 |\n",
       "| (2017-02-23 09:36:00, 2017-04-17 19:12:00]           |        14857 |\n",
       "| (2017-04-17 19:12:00, 2017-06-10 04:48:00]           |        17848 |\n",
       "| (2017-06-10 04:48:00, 2017-08-02 14:24:00]           |        17879 |\n",
       "| (2017-08-02 14:24:00, 2017-09-25]                    |        14116 |"
      ],
      "text/plain": [
       "<IPython.core.display.Markdown object>"
      ]
     },
     "metadata": {},
     "output_type": "display_data"
    },
    {
     "name": "stdout",
     "output_type": "stream",
     "text": [
      "\n",
      "\n",
      "-------------\n",
      "Column Name:  ac_type \n",
      "--------------\n",
      "Categorical:\n",
      " -  6 Categories\n"
     ]
    },
    {
     "data": {
      "text/markdown": [
       "|               |   ac_type |\n",
       "|:--------------|----------:|\n",
       "|               |     51738 |\n",
       "| Central       |     22969 |\n",
       "| Yes           |      1568 |\n",
       "| None          |       167 |\n",
       "| Wall Unit     |        53 |\n",
       "| Refrigeration |        26 |"
      ],
      "text/plain": [
       "<IPython.core.display.Markdown object>"
      ]
     },
     "metadata": {},
     "output_type": "display_data"
    },
    {
     "name": "stdout",
     "output_type": "stream",
     "text": [
      "\n",
      "\n",
      "-------------\n",
      "Column Name:  arch_type \n",
      "--------------\n",
      "Categorical:\n",
      " -  6 Categories\n"
     ]
    },
    {
     "data": {
      "text/markdown": [
       "|               |   arch_type |\n",
       "|:--------------|------------:|\n",
       "|               |       76315 |\n",
       "| Contemporary  |         172 |\n",
       "| Conventional  |          19 |\n",
       "| Ranch/Rambler |           7 |\n",
       "| Bungalow      |           5 |\n",
       "| Cape Cod      |           3 |"
      ],
      "text/plain": [
       "<IPython.core.display.Markdown object>"
      ]
     },
     "metadata": {},
     "output_type": "display_data"
    },
    {
     "name": "stdout",
     "output_type": "stream",
     "text": [
      "\n",
      "\n",
      "-------------\n",
      "Column Name:  build_type \n",
      "--------------\n",
      "Categorical:\n",
      " -  1 Categories\n"
     ]
    },
    {
     "data": {
      "text/markdown": [
       "|    |   build_type |\n",
       "|:---|-------------:|\n",
       "|    |        76521 |"
      ],
      "text/plain": [
       "<IPython.core.display.Markdown object>"
      ]
     },
     "metadata": {},
     "output_type": "display_data"
    },
    {
     "name": "stdout",
     "output_type": "stream",
     "text": [
      "\n",
      "\n",
      "-------------\n",
      "Column Name:  heat_type \n",
      "--------------\n",
      "Categorical:\n",
      " -  11 Categories\n"
     ]
    },
    {
     "data": {
      "text/markdown": [
       "|            |   heat_type |\n",
       "|:-----------|------------:|\n",
       "| Central    |       33353 |\n",
       "|            |       27336 |\n",
       "| Floor/Wall |       14008 |\n",
       "| Yes        |         846 |\n",
       "| Forced air |         775 |\n",
       "| Solar      |         104 |\n",
       "| None       |          59 |\n",
       "| Radiant    |          23 |\n",
       "| Baseboard  |          13 |\n",
       "| Gravity    |           3 |\n",
       "| Heat Pump  |           1 |"
      ],
      "text/plain": [
       "<IPython.core.display.Markdown object>"
      ]
     },
     "metadata": {},
     "output_type": "display_data"
    },
    {
     "name": "stdout",
     "output_type": "stream",
     "text": [
      "\n",
      "\n",
      "-------------\n",
      "Column Name:  land_use_type \n",
      "--------------\n",
      "Categorical:\n",
      " -  12 Categories\n"
     ]
    },
    {
     "data": {
      "text/markdown": [
       "|                                            |   land_use_type |\n",
       "|:-------------------------------------------|----------------:|\n",
       "| Single Family Residential                  |           52160 |\n",
       "| Condominium                                |           19006 |\n",
       "| Planned Unit Development                   |            1940 |\n",
       "| Duplex (2 Units, Any Combination)          |            1843 |\n",
       "| Quadruplex (4 Units, Any Combination)      |             615 |\n",
       "| Triplex (3 Units, Any Combination)         |             485 |\n",
       "| Cluster Home                               |             333 |\n",
       "| Mobile Home                                |              59 |\n",
       "| Manufactured, Modular, Prefabricated Homes |              35 |\n",
       "| Cooperative                                |              29 |\n",
       "| Residential General                        |              10 |\n",
       "| Townhouse                                  |               6 |"
      ],
      "text/plain": [
       "<IPython.core.display.Markdown object>"
      ]
     },
     "metadata": {},
     "output_type": "display_data"
    },
    {
     "name": "stdout",
     "output_type": "stream",
     "text": [
      "\n",
      "\n",
      "-------------\n",
      "Column Name:  story_type \n",
      "--------------\n",
      "Categorical:\n",
      " -  2 Categories\n"
     ]
    },
    {
     "data": {
      "text/markdown": [
       "|          |   story_type |\n",
       "|:---------|-------------:|\n",
       "|          |        76471 |\n",
       "| Basement |           50 |"
      ],
      "text/plain": [
       "<IPython.core.display.Markdown object>"
      ]
     },
     "metadata": {},
     "output_type": "display_data"
    },
    {
     "name": "stdout",
     "output_type": "stream",
     "text": [
      "\n",
      "\n",
      "-------------\n",
      "Column Name:  construction_type \n",
      "--------------\n",
      "Categorical:\n",
      " -  5 Categories\n"
     ]
    },
    {
     "data": {
      "text/markdown": [
       "|          |   construction_type |\n",
       "|:---------|--------------------:|\n",
       "|          |               76299 |\n",
       "| Frame    |                 219 |\n",
       "| Masonry  |                   1 |\n",
       "| Metal    |                   1 |\n",
       "| Concrete |                   1 |"
      ],
      "text/plain": [
       "<IPython.core.display.Markdown object>"
      ]
     },
     "metadata": {},
     "output_type": "display_data"
    },
    {
     "name": "stdout",
     "output_type": "stream",
     "text": [
      "\n",
      "\n",
      "-------------\n",
      "Column Name:  basementsqft \n",
      "--------------\n",
      "Numerical: Divided by Quartile\n",
      " -  5 bins\n"
     ]
    },
    {
     "data": {
      "text/markdown": [
       "|                             |   basementsqft |\n",
       "|:----------------------------|---------------:|\n",
       "| (34.477000000000004, 742.4] |             36 |\n",
       "| (742.4, 1446.8]             |             10 |\n",
       "| (1446.8, 2151.2]            |              2 |\n",
       "| (2151.2, 2855.6]            |              0 |\n",
       "| (2855.6, 3560.0]            |              2 |"
      ],
      "text/plain": [
       "<IPython.core.display.Markdown object>"
      ]
     },
     "metadata": {},
     "output_type": "display_data"
    },
    {
     "name": "stdout",
     "output_type": "stream",
     "text": [
      "\n",
      "\n",
      "-------------\n",
      "Column Name:  bathrooms \n",
      "--------------\n",
      "Numerical: Divided by Quartile\n",
      " -  5 bins\n"
     ]
    },
    {
     "data": {
      "text/markdown": [
       "|              |   bathrooms |\n",
       "|:-------------|------------:|\n",
       "| (0.982, 4.4] |       73839 |\n",
       "| (4.4, 7.8]   |        2536 |\n",
       "| (7.8, 11.2]  |         144 |\n",
       "| (11.2, 14.6] |           1 |\n",
       "| (14.6, 18.0] |           1 |"
      ],
      "text/plain": [
       "<IPython.core.display.Markdown object>"
      ]
     },
     "metadata": {},
     "output_type": "display_data"
    },
    {
     "name": "stdout",
     "output_type": "stream",
     "text": [
      "\n",
      "\n",
      "-------------\n",
      "Column Name:  bedrooms \n",
      "--------------\n",
      "Numerical: Divided by Quartile\n",
      " -  5 bins\n"
     ]
    },
    {
     "data": {
      "text/markdown": [
       "|              |   bedrooms |\n",
       "|:-------------|-----------:|\n",
       "| (0.984, 4.0] |      70394 |\n",
       "| (4.0, 7.0]   |       5748 |\n",
       "| (7.0, 10.0]  |        353 |\n",
       "| (10.0, 13.0] |         24 |\n",
       "| (13.0, 16.0] |          2 |"
      ],
      "text/plain": [
       "<IPython.core.display.Markdown object>"
      ]
     },
     "metadata": {},
     "output_type": "display_data"
    },
    {
     "name": "stdout",
     "output_type": "stream",
     "text": [
      "\n",
      "\n",
      "-------------\n",
      "Column Name:  quality_type \n",
      "--------------\n",
      "Numerical: Divided by Quartile\n",
      " -  5 bins\n"
     ]
    },
    {
     "data": {
      "text/markdown": [
       "|              |   quality_type |\n",
       "|:-------------|---------------:|\n",
       "| (0.988, 3.2] |            354 |\n",
       "| (3.2, 5.4]   |          11514 |\n",
       "| (5.4, 7.6]   |          19344 |\n",
       "| (7.6, 9.8]   |          16859 |\n",
       "| (9.8, 12.0]  |           1351 |"
      ],
      "text/plain": [
       "<IPython.core.display.Markdown object>"
      ]
     },
     "metadata": {},
     "output_type": "display_data"
    },
    {
     "name": "stdout",
     "output_type": "stream",
     "text": [
      "\n",
      "\n",
      "-------------\n",
      "Column Name:  calc_bath_n_bed \n",
      "--------------\n",
      "Numerical: Divided by Quartile\n",
      " -  5 bins\n"
     ]
    },
    {
     "data": {
      "text/markdown": [
       "|              |   calc_bath_n_bed |\n",
       "|:-------------|------------------:|\n",
       "| (0.982, 4.4] |             73824 |\n",
       "| (4.4, 7.8]   |              2535 |\n",
       "| (7.8, 11.2]  |               144 |\n",
       "| (11.2, 14.6] |                 1 |\n",
       "| (14.6, 18.0] |                 1 |"
      ],
      "text/plain": [
       "<IPython.core.display.Markdown object>"
      ]
     },
     "metadata": {},
     "output_type": "display_data"
    },
    {
     "name": "stdout",
     "output_type": "stream",
     "text": [
      "\n",
      "\n",
      "-------------\n",
      "Column Name:  deck_type \n",
      "--------------\n",
      "Numerical: Divided by Quartile\n",
      " -  5 bins\n"
     ]
    },
    {
     "data": {
      "text/markdown": [
       "|                            |   deck_type |\n",
       "|:---------------------------|------------:|\n",
       "| (65.93299999999999, 65.96] |           0 |\n",
       "| (65.96, 65.987]            |           0 |\n",
       "| (65.987, 66.013]           |         612 |\n",
       "| (66.013, 66.04]            |           0 |\n",
       "| (66.04, 66.066]            |           0 |"
      ],
      "text/plain": [
       "<IPython.core.display.Markdown object>"
      ]
     },
     "metadata": {},
     "output_type": "display_data"
    },
    {
     "name": "stdout",
     "output_type": "stream",
     "text": [
      "\n",
      "\n",
      "-------------\n",
      "Column Name:  floor_1_sqft \n",
      "--------------\n",
      "Numerical: Divided by Quartile\n",
      " -  5 bins\n"
     ]
    },
    {
     "data": {
      "text/markdown": [
       "|                  |   floor_1_sqft |\n",
       "|:-----------------|---------------:|\n",
       "| (37.131, 1417.6] |           3720 |\n",
       "| (1417.6, 2791.2] |           2065 |\n",
       "| (2791.2, 4164.8] |            174 |\n",
       "| (4164.8, 5538.4] |             37 |\n",
       "| (5538.4, 6912.0] |             10 |"
      ],
      "text/plain": [
       "<IPython.core.display.Markdown object>"
      ]
     },
     "metadata": {},
     "output_type": "display_data"
    },
    {
     "name": "stdout",
     "output_type": "stream",
     "text": [
      "\n",
      "\n",
      "-------------\n",
      "Column Name:  tot_sqft \n",
      "--------------\n",
      "Numerical: Divided by Quartile\n",
      " -  5 bins\n"
     ]
    },
    {
     "data": {
      "text/markdown": [
       "|                    |   tot_sqft |\n",
       "|:-------------------|-----------:|\n",
       "| (130.222, 4507.4]  |      75161 |\n",
       "| (4507.4, 8862.8]   |       1297 |\n",
       "| (8862.8, 13218.2]  |         56 |\n",
       "| (13218.2, 17573.6] |          4 |\n",
       "| (17573.6, 21929.0] |          3 |"
      ],
      "text/plain": [
       "<IPython.core.display.Markdown object>"
      ]
     },
     "metadata": {},
     "output_type": "display_data"
    },
    {
     "name": "stdout",
     "output_type": "stream",
     "text": [
      "\n",
      "\n",
      "-------------\n",
      "Column Name:  sqft_12 \n",
      "--------------\n",
      "Numerical: Divided by Quartile\n",
      " -  5 bins\n"
     ]
    },
    {
     "data": {
      "text/markdown": [
       "|                    |   sqft_12 |\n",
       "|:-------------------|----------:|\n",
       "| (130.222, 4507.4]  |     72131 |\n",
       "| (4507.4, 8862.8]   |      1196 |\n",
       "| (8862.8, 13218.2]  |        56 |\n",
       "| (13218.2, 17573.6] |         4 |\n",
       "| (17573.6, 21929.0] |         3 |"
      ],
      "text/plain": [
       "<IPython.core.display.Markdown object>"
      ]
     },
     "metadata": {},
     "output_type": "display_data"
    },
    {
     "name": "stdout",
     "output_type": "stream",
     "text": [
      "\n",
      "\n",
      "-------------\n",
      "Column Name:  sqft_13 \n",
      "--------------\n",
      "Numerical: Divided by Quartile\n",
      " -  5 bins\n"
     ]
    },
    {
     "data": {
      "text/markdown": [
       "|                              |   sqft_13 |\n",
       "|:-----------------------------|----------:|\n",
       "| (1055.4950000000001, 1156.8] |         3 |\n",
       "| (1156.8, 1257.6]             |         3 |\n",
       "| (1257.6, 1358.4]             |         4 |\n",
       "| (1358.4, 1459.2]             |        11 |\n",
       "| (1459.2, 1560.0]             |         5 |"
      ],
      "text/plain": [
       "<IPython.core.display.Markdown object>"
      ]
     },
     "metadata": {},
     "output_type": "display_data"
    },
    {
     "name": "stdout",
     "output_type": "stream",
     "text": [
      "\n",
      "\n",
      "-------------\n",
      "Column Name:  sqft_15 \n",
      "--------------\n",
      "Numerical: Divided by Quartile\n",
      " -  5 bins\n"
     ]
    },
    {
     "data": {
      "text/markdown": [
       "|                   |   sqft_15 |\n",
       "|:------------------|----------:|\n",
       "| (590.607, 2076.4] |      1435 |\n",
       "| (2076.4, 3554.8]  |      1117 |\n",
       "| (3554.8, 5033.2]  |       332 |\n",
       "| (5033.2, 6511.6]  |        37 |\n",
       "| (6511.6, 7990.0]  |         6 |"
      ],
      "text/plain": [
       "<IPython.core.display.Markdown object>"
      ]
     },
     "metadata": {},
     "output_type": "display_data"
    },
    {
     "name": "stdout",
     "output_type": "stream",
     "text": [
      "\n",
      "\n",
      "-------------\n",
      "Column Name:  sqft_50 \n",
      "--------------\n",
      "Numerical: Divided by Quartile\n",
      " -  5 bins\n"
     ]
    },
    {
     "data": {
      "text/markdown": [
       "|                   |   sqft_50 |\n",
       "|:------------------|----------:|\n",
       "| (31.576, 2528.6]  |      5680 |\n",
       "| (2528.6, 5013.2]  |       298 |\n",
       "| (5013.2, 7497.8]  |        24 |\n",
       "| (7497.8, 9982.4]  |         3 |\n",
       "| (9982.4, 12467.0] |         1 |"
      ],
      "text/plain": [
       "<IPython.core.display.Markdown object>"
      ]
     },
     "metadata": {},
     "output_type": "display_data"
    },
    {
     "name": "stdout",
     "output_type": "stream",
     "text": [
      "\n",
      "\n",
      "-------------\n",
      "Column Name:  sqft_6 \n",
      "--------------\n",
      "Numerical: Divided by Quartile\n",
      " -  5 bins\n"
     ]
    },
    {
     "data": {
      "text/markdown": [
       "|                   |   sqft_6 |\n",
       "|:------------------|---------:|\n",
       "| (374.781, 1423.6] |      141 |\n",
       "| (1423.6, 2467.2]  |       23 |\n",
       "| (2467.2, 3510.8]  |        7 |\n",
       "| (3510.8, 4554.4]  |        6 |\n",
       "| (4554.4, 5598.0]  |        1 |"
      ],
      "text/plain": [
       "<IPython.core.display.Markdown object>"
      ]
     },
     "metadata": {},
     "output_type": "display_data"
    },
    {
     "name": "stdout",
     "output_type": "stream",
     "text": [
      "\n",
      "\n",
      "-------------\n",
      "Column Name:  fips \n",
      "--------------\n",
      "Categorical:\n",
      " -  3 Categories\n"
     ]
    },
    {
     "data": {
      "text/markdown": [
       "|                    |   fips |\n",
       "|:-------------------|-------:|\n",
       "| Los Angeles County |  50135 |\n",
       "| Orange County      |  20276 |\n",
       "| Ventura County     |   6110 |"
      ],
      "text/plain": [
       "<IPython.core.display.Markdown object>"
      ]
     },
     "metadata": {},
     "output_type": "display_data"
    },
    {
     "name": "stdout",
     "output_type": "stream",
     "text": [
      "\n",
      "\n",
      "-------------\n",
      "Column Name:  fireplaces \n",
      "--------------\n",
      "Numerical: Divided by Quartile\n",
      " -  5 bins\n"
     ]
    },
    {
     "data": {
      "text/markdown": [
       "|              |   fireplaces |\n",
       "|:-------------|-------------:|\n",
       "| (0.995, 1.8] |         6990 |\n",
       "| (1.8, 2.6]   |          988 |\n",
       "| (2.6, 3.4]   |          232 |\n",
       "| (3.4, 4.2]   |           34 |\n",
       "| (4.2, 5.0]   |            3 |"
      ],
      "text/plain": [
       "<IPython.core.display.Markdown object>"
      ]
     },
     "metadata": {},
     "output_type": "display_data"
    },
    {
     "name": "stdout",
     "output_type": "stream",
     "text": [
      "\n",
      "\n",
      "-------------\n",
      "Column Name:  full_baths \n",
      "--------------\n",
      "Numerical: Divided by Quartile\n",
      " -  5 bins\n"
     ]
    },
    {
     "data": {
      "text/markdown": [
       "|              |   full_baths |\n",
       "|:-------------|-------------:|\n",
       "| (0.982, 4.4] |        74540 |\n",
       "| (4.4, 7.8]   |         1819 |\n",
       "| (7.8, 11.2]  |          144 |\n",
       "| (11.2, 14.6] |            1 |\n",
       "| (14.6, 18.0] |            1 |"
      ],
      "text/plain": [
       "<IPython.core.display.Markdown object>"
      ]
     },
     "metadata": {},
     "output_type": "display_data"
    },
    {
     "name": "stdout",
     "output_type": "stream",
     "text": [
      "\n",
      "\n",
      "-------------\n",
      "Column Name:  garages \n",
      "--------------\n",
      "Numerical: Divided by Quartile\n",
      " -  5 bins\n"
     ]
    },
    {
     "data": {
      "text/markdown": [
       "|               |   garages |\n",
       "|:--------------|----------:|\n",
       "| (-0.015, 2.8] |     24329 |\n",
       "| (2.8, 5.6]    |       930 |\n",
       "| (5.6, 8.4]    |        20 |\n",
       "| (8.4, 11.2]   |         6 |\n",
       "| (11.2, 14.0]  |         2 |"
      ],
      "text/plain": [
       "<IPython.core.display.Markdown object>"
      ]
     },
     "metadata": {},
     "output_type": "display_data"
    },
    {
     "name": "stdout",
     "output_type": "stream",
     "text": [
      "\n",
      "\n",
      "-------------\n",
      "Column Name:  garage_sqft \n",
      "--------------\n",
      "Numerical: Divided by Quartile\n",
      " -  5 bins\n"
     ]
    },
    {
     "data": {
      "text/markdown": [
       "|                             |   garage_sqft |\n",
       "|:----------------------------|--------------:|\n",
       "| (-4.252000000000001, 850.2] |         24911 |\n",
       "| (850.2, 1700.4]             |           360 |\n",
       "| (1700.4, 2550.6]            |             8 |\n",
       "| (2550.6, 3400.8]            |             6 |\n",
       "| (3400.8, 4251.0]            |             2 |"
      ],
      "text/plain": [
       "<IPython.core.display.Markdown object>"
      ]
     },
     "metadata": {},
     "output_type": "display_data"
    },
    {
     "name": "stdout",
     "output_type": "stream",
     "text": [
      "\n",
      "\n",
      "-------------\n",
      "Column Name:  hot_tub \n",
      "--------------\n",
      "Numerical: Divided by Quartile\n",
      " -  5 bins\n"
     ]
    },
    {
     "data": {
      "text/markdown": [
       "|                  |   hot_tub |\n",
       "|:-----------------|----------:|\n",
       "| (0.9989, 0.9994] |         0 |\n",
       "| (0.9994, 0.9998] |         0 |\n",
       "| (0.9998, 1.0002] |      1538 |\n",
       "| (1.0002, 1.0006] |         0 |\n",
       "| (1.0006, 1.001]  |         0 |"
      ],
      "text/plain": [
       "<IPython.core.display.Markdown object>"
      ]
     },
     "metadata": {},
     "output_type": "display_data"
    },
    {
     "name": "stdout",
     "output_type": "stream",
     "text": [
      "\n",
      "\n",
      "-------------\n",
      "Column Name:  lat \n",
      "--------------\n",
      "Numerical: Divided by Quartile\n",
      " -  5 bins\n"
     ]
    },
    {
     "data": {
      "text/markdown": [
       "|                                  |   lat |\n",
       "|:---------------------------------|------:|\n",
       "| (33338047.759000003, 33635375.0] |  6254 |\n",
       "| (33635375.0, 33931223.0]         | 24528 |\n",
       "| (33931223.0, 34227071.0]         | 32754 |\n",
       "| (34227071.0, 34522919.0]         |  9336 |\n",
       "| (34522919.0, 34818767.0]         |  3649 |"
      ],
      "text/plain": [
       "<IPython.core.display.Markdown object>"
      ]
     },
     "metadata": {},
     "output_type": "display_data"
    },
    {
     "name": "stdout",
     "output_type": "stream",
     "text": [
      "\n",
      "\n",
      "-------------\n",
      "Column Name:  lon \n",
      "--------------\n",
      "Numerical: Divided by Quartile\n",
      " -  5 bins\n"
     ]
    },
    {
     "data": {
      "text/markdown": [
       "|                                |   lon |\n",
       "|:-------------------------------|------:|\n",
       "| (-119477336.781, -119091260.0] |  2151 |\n",
       "| (-119091260.0, -118707104.0]   |  4089 |\n",
       "| (-118707104.0, -118322948.0]   | 21193 |\n",
       "| (-118322948.0, -117938792.0]   | 29266 |\n",
       "| (-117938792.0, -117554636.0]   | 19822 |"
      ],
      "text/plain": [
       "<IPython.core.display.Markdown object>"
      ]
     },
     "metadata": {},
     "output_type": "display_data"
    },
    {
     "name": "stdout",
     "output_type": "stream",
     "text": [
      "\n",
      "\n",
      "-------------\n",
      "Column Name:  lot_sqft \n",
      "--------------\n",
      "Numerical: Divided by Quartile\n",
      " -  5 bins\n"
     ]
    },
    {
     "data": {
      "text/markdown": [
       "|                                 |   lot_sqft |\n",
       "|:--------------------------------|-----------:|\n",
       "| (-6734.775000000001, 1394390.8] |      68333 |\n",
       "| (1394390.8, 2788545.6]          |         40 |\n",
       "| (2788545.6, 4182700.4]          |         10 |\n",
       "| (4182700.4, 5576855.2]          |          0 |\n",
       "| (5576855.2, 6971010.0]          |          7 |"
      ],
      "text/plain": [
       "<IPython.core.display.Markdown object>"
      ]
     },
     "metadata": {},
     "output_type": "display_data"
    },
    {
     "name": "stdout",
     "output_type": "stream",
     "text": [
      "\n",
      "\n",
      "-------------\n",
      "Column Name:  pools \n",
      "--------------\n",
      "Numerical: Divided by Quartile\n",
      " -  5 bins\n"
     ]
    },
    {
     "data": {
      "text/markdown": [
       "|                  |   pools |\n",
       "|:-----------------|--------:|\n",
       "| (0.9989, 0.9994] |       0 |\n",
       "| (0.9994, 0.9998] |       0 |\n",
       "| (0.9998, 1.0002] |   16048 |\n",
       "| (1.0002, 1.0006] |       0 |\n",
       "| (1.0006, 1.001]  |       0 |"
      ],
      "text/plain": [
       "<IPython.core.display.Markdown object>"
      ]
     },
     "metadata": {},
     "output_type": "display_data"
    },
    {
     "name": "stdout",
     "output_type": "stream",
     "text": [
      "\n",
      "\n",
      "-------------\n",
      "Column Name:  pool_sqft \n",
      "--------------\n",
      "Numerical: Divided by Quartile\n",
      " -  5 bins\n"
     ]
    },
    {
     "data": {
      "text/markdown": [
       "|                  |   pool_sqft |\n",
       "|:-----------------|------------:|\n",
       "| (22.523, 319.2]  |          53 |\n",
       "| (319.2, 614.4]   |         626 |\n",
       "| (614.4, 909.6]   |         169 |\n",
       "| (909.6, 1204.8]  |          12 |\n",
       "| (1204.8, 1500.0] |           2 |"
      ],
      "text/plain": [
       "<IPython.core.display.Markdown object>"
      ]
     },
     "metadata": {},
     "output_type": "display_data"
    },
    {
     "name": "stdout",
     "output_type": "stream",
     "text": [
      "\n",
      "\n",
      "-------------\n",
      "Column Name:  pool_id10 \n",
      "--------------\n",
      "Numerical: Divided by Quartile\n",
      " -  5 bins\n"
     ]
    },
    {
     "data": {
      "text/markdown": [
       "|                  |   pool_id10 |\n",
       "|:-----------------|------------:|\n",
       "| (0.9989, 0.9994] |           0 |\n",
       "| (0.9994, 0.9998] |           0 |\n",
       "| (0.9998, 1.0002] |         464 |\n",
       "| (1.0002, 1.0006] |           0 |\n",
       "| (1.0006, 1.001]  |           0 |"
      ],
      "text/plain": [
       "<IPython.core.display.Markdown object>"
      ]
     },
     "metadata": {},
     "output_type": "display_data"
    },
    {
     "name": "stdout",
     "output_type": "stream",
     "text": [
      "\n",
      "\n",
      "-------------\n",
      "Column Name:  pool_id2 \n",
      "--------------\n",
      "Numerical: Divided by Quartile\n",
      " -  5 bins\n"
     ]
    },
    {
     "data": {
      "text/markdown": [
       "|                  |   pool_id2 |\n",
       "|:-----------------|-----------:|\n",
       "| (0.9989, 0.9994] |          0 |\n",
       "| (0.9994, 0.9998] |          0 |\n",
       "| (0.9998, 1.0002] |       1074 |\n",
       "| (1.0002, 1.0006] |          0 |\n",
       "| (1.0006, 1.001]  |          0 |"
      ],
      "text/plain": [
       "<IPython.core.display.Markdown object>"
      ]
     },
     "metadata": {},
     "output_type": "display_data"
    },
    {
     "name": "stdout",
     "output_type": "stream",
     "text": [
      "\n",
      "\n",
      "-------------\n",
      "Column Name:  pool_id7 \n",
      "--------------\n",
      "Numerical: Divided by Quartile\n",
      " -  5 bins\n"
     ]
    },
    {
     "data": {
      "text/markdown": [
       "|                  |   pool_id7 |\n",
       "|:-----------------|-----------:|\n",
       "| (0.9989, 0.9994] |          0 |\n",
       "| (0.9994, 0.9998] |          0 |\n",
       "| (0.9998, 1.0002] |      14953 |\n",
       "| (1.0002, 1.0006] |          0 |\n",
       "| (1.0006, 1.001]  |          0 |"
      ],
      "text/plain": [
       "<IPython.core.display.Markdown object>"
      ]
     },
     "metadata": {},
     "output_type": "display_data"
    },
    {
     "name": "stdout",
     "output_type": "stream",
     "text": [
      "\n",
      "\n",
      "-------------\n",
      "Column Name:  county_landuse \n",
      "--------------\n",
      "Categorical:\n",
      " -  61 Categories\n",
      "\n",
      " 0100    26675\n",
      "122     13011\n",
      "010C     8701\n",
      "0101     6398\n",
      "34       4888\n",
      "        ...  \n",
      "0301        1\n",
      "0133        1\n",
      "0204        1\n",
      "0131        1\n",
      "020E        1\n",
      "Name: county_landuse, Length: 61, dtype: int64\n",
      "\n",
      "\n",
      "-------------\n",
      "Column Name:  zoning \n",
      "--------------\n",
      "Categorical:\n",
      " -  1894 Categories\n",
      "\n",
      " None         26604\n",
      "LAR1          6731\n",
      "LAR3          2409\n",
      "LARS          1389\n",
      "LBR1N         1219\n",
      "             ...  \n",
      "AHPRD10*         1\n",
      "RBR4             1\n",
      "HAC2YY           1\n",
      "LCR17500         1\n",
      "BFA15000*        1\n",
      "Name: zoning, Length: 1894, dtype: int64\n",
      "\n",
      "\n",
      "-------------\n",
      "Column Name:  raw_tract_and_block \n",
      "--------------\n",
      "Numerical: Divided by Quartile\n",
      " -  5 bins\n"
     ]
    },
    {
     "data": {
      "text/markdown": [
       "|                                    |   raw_tract_and_block |\n",
       "|:-----------------------------------|----------------------:|\n",
       "| (60370272.019999996, 60518827.081] |                 50135 |\n",
       "| (60518827.081, 60666643.061]       |                 20276 |\n",
       "| (60666643.061, 60814459.041]       |                     0 |\n",
       "| (60814459.041, 60962275.021]       |                     0 |\n",
       "| (60962275.021, 61110091.001]       |                  6110 |"
      ],
      "text/plain": [
       "<IPython.core.display.Markdown object>"
      ]
     },
     "metadata": {},
     "output_type": "display_data"
    },
    {
     "name": "stdout",
     "output_type": "stream",
     "text": [
      "\n",
      "\n",
      "-------------\n",
      "Column Name:  city_id \n",
      "--------------\n",
      "Numerical: Divided by Quartile\n",
      " -  5 bins\n"
     ]
    },
    {
     "data": {
      "text/markdown": [
       "|                               |   city_id |\n",
       "|:------------------------------|----------:|\n",
       "| (3097.9339999999997, 82104.0] |     72958 |\n",
       "| (82104.0, 160717.0]           |      1046 |\n",
       "| (160717.0, 239330.0]          |         0 |\n",
       "| (239330.0, 317943.0]          |        24 |\n",
       "| (317943.0, 396556.0]          |      1047 |"
      ],
      "text/plain": [
       "<IPython.core.display.Markdown object>"
      ]
     },
     "metadata": {},
     "output_type": "display_data"
    },
    {
     "name": "stdout",
     "output_type": "stream",
     "text": [
      "\n",
      "\n",
      "-------------\n",
      "Column Name:  county_id \n",
      "--------------\n",
      "Numerical: Divided by Quartile\n",
      " -  5 bins\n"
     ]
    },
    {
     "data": {
      "text/markdown": [
       "|                    |   county_id |\n",
       "|:-------------------|------------:|\n",
       "| (1284.184, 1649.0] |       20276 |\n",
       "| (1649.0, 2012.0]   |           0 |\n",
       "| (2012.0, 2375.0]   |        6110 |\n",
       "| (2375.0, 2738.0]   |           0 |\n",
       "| (2738.0, 3101.0]   |       50135 |"
      ],
      "text/plain": [
       "<IPython.core.display.Markdown object>"
      ]
     },
     "metadata": {},
     "output_type": "display_data"
    },
    {
     "name": "stdout",
     "output_type": "stream",
     "text": [
      "\n",
      "\n",
      "-------------\n",
      "Column Name:  neighborhood \n",
      "--------------\n",
      "Numerical: Divided by Quartile\n",
      " -  5 bins\n"
     ]
    },
    {
     "data": {
      "text/markdown": [
       "|                      |   neighborhood |\n",
       "|:---------------------|---------------:|\n",
       "| (6194.784, 158395.0] |          16024 |\n",
       "| (158395.0, 309838.0] |          11403 |\n",
       "| (309838.0, 461281.0] |           1970 |\n",
       "| (461281.0, 612724.0] |              0 |\n",
       "| (612724.0, 764167.0] |           1129 |"
      ],
      "text/plain": [
       "<IPython.core.display.Markdown object>"
      ]
     },
     "metadata": {},
     "output_type": "display_data"
    },
    {
     "name": "stdout",
     "output_type": "stream",
     "text": [
      "\n",
      "\n",
      "-------------\n",
      "Column Name:  zip_code \n",
      "--------------\n",
      "Numerical: Divided by Quartile\n",
      " -  5 bins\n"
     ]
    },
    {
     "data": {
      "text/markdown": [
       "|                       |   zip_code |\n",
       "|:----------------------|-----------:|\n",
       "| (95678.306, 156720.6] |      76465 |\n",
       "| (156720.6, 217459.2]  |          0 |\n",
       "| (217459.2, 278197.8]  |          0 |\n",
       "| (278197.8, 338936.4]  |          0 |\n",
       "| (338936.4, 399675.0]  |         12 |"
      ],
      "text/plain": [
       "<IPython.core.display.Markdown object>"
      ]
     },
     "metadata": {},
     "output_type": "display_data"
    },
    {
     "name": "stdout",
     "output_type": "stream",
     "text": [
      "\n",
      "\n",
      "-------------\n",
      "Column Name:  num_rooms \n",
      "--------------\n",
      "Numerical: Divided by Quartile\n",
      " -  5 bins\n"
     ]
    },
    {
     "data": {
      "text/markdown": [
       "|               |   num_rooms |\n",
       "|:--------------|------------:|\n",
       "| (-0.016, 3.0] |       59196 |\n",
       "| (3.0, 6.0]    |        8934 |\n",
       "| (6.0, 9.0]    |        7894 |\n",
       "| (9.0, 12.0]   |         480 |\n",
       "| (12.0, 15.0]  |          17 |"
      ],
      "text/plain": [
       "<IPython.core.display.Markdown object>"
      ]
     },
     "metadata": {},
     "output_type": "display_data"
    },
    {
     "name": "stdout",
     "output_type": "stream",
     "text": [
      "\n",
      "\n",
      "-------------\n",
      "Column Name:  stories_type \n",
      "--------------\n",
      "Numerical: Divided by Quartile\n",
      " -  5 bins\n"
     ]
    },
    {
     "data": {
      "text/markdown": [
       "|                |   stories_type |\n",
       "|:---------------|---------------:|\n",
       "| (6.992, 6.996] |              0 |\n",
       "| (6.996, 6.999] |              0 |\n",
       "| (6.999, 7.001] |             50 |\n",
       "| (7.001, 7.004] |              0 |\n",
       "| (7.004, 7.007] |              0 |"
      ],
      "text/plain": [
       "<IPython.core.display.Markdown object>"
      ]
     },
     "metadata": {},
     "output_type": "display_data"
    },
    {
     "name": "stdout",
     "output_type": "stream",
     "text": [
      "\n",
      "\n",
      "-------------\n",
      "Column Name:  three_quarter_baths \n",
      "--------------\n",
      "Numerical: Divided by Quartile\n",
      " -  5 bins\n"
     ]
    },
    {
     "data": {
      "text/markdown": [
       "|              |   three_quarter_baths |\n",
       "|:-------------|----------------------:|\n",
       "| (0.993, 2.2] |                 10085 |\n",
       "| (2.2, 3.4]   |                     8 |\n",
       "| (3.4, 4.6]   |                     0 |\n",
       "| (4.6, 5.8]   |                     0 |\n",
       "| (5.8, 7.0]   |                     1 |"
      ],
      "text/plain": [
       "<IPython.core.display.Markdown object>"
      ]
     },
     "metadata": {},
     "output_type": "display_data"
    },
    {
     "name": "stdout",
     "output_type": "stream",
     "text": [
      "\n",
      "\n",
      "-------------\n",
      "Column Name:  units \n",
      "--------------\n",
      "Numerical: Divided by Quartile\n",
      " -  5 bins\n"
     ]
    },
    {
     "data": {
      "text/markdown": [
       "|              |   units |\n",
       "|:-------------|--------:|\n",
       "| (0.994, 2.0] |   48890 |\n",
       "| (2.0, 3.0]   |     480 |\n",
       "| (3.0, 4.0]   |     614 |\n",
       "| (4.0, 5.0]   |       0 |\n",
       "| (5.0, 6.0]   |       1 |"
      ],
      "text/plain": [
       "<IPython.core.display.Markdown object>"
      ]
     },
     "metadata": {},
     "output_type": "display_data"
    },
    {
     "name": "stdout",
     "output_type": "stream",
     "text": [
      "\n",
      "\n",
      "-------------\n",
      "Column Name:  yard_sqft_17 \n",
      "--------------\n",
      "Numerical: Divided by Quartile\n",
      " -  5 bins\n"
     ]
    },
    {
     "data": {
      "text/markdown": [
       "|                  |   yard_sqft_17 |\n",
       "|:-----------------|---------------:|\n",
       "| (7.819, 647.0]   |           2232 |\n",
       "| (647.0, 1283.0]  |            128 |\n",
       "| (1283.0, 1919.0] |             10 |\n",
       "| (1919.0, 2555.0] |              4 |\n",
       "| (2555.0, 3191.0] |              3 |"
      ],
      "text/plain": [
       "<IPython.core.display.Markdown object>"
      ]
     },
     "metadata": {},
     "output_type": "display_data"
    },
    {
     "name": "stdout",
     "output_type": "stream",
     "text": [
      "\n",
      "\n",
      "-------------\n",
      "Column Name:  yard_sqft_26 \n",
      "--------------\n",
      "Numerical: Divided by Quartile\n",
      " -  5 bins\n"
     ]
    },
    {
     "data": {
      "text/markdown": [
       "|                 |   yard_sqft_26 |\n",
       "|:----------------|---------------:|\n",
       "| (11.143, 183.2] |             38 |\n",
       "| (183.2, 354.4]  |             17 |\n",
       "| (354.4, 525.6]  |             10 |\n",
       "| (525.6, 696.8]  |              3 |\n",
       "| (696.8, 868.0]  |              2 |"
      ],
      "text/plain": [
       "<IPython.core.display.Markdown object>"
      ]
     },
     "metadata": {},
     "output_type": "display_data"
    },
    {
     "name": "stdout",
     "output_type": "stream",
     "text": [
      "\n",
      "\n",
      "-------------\n",
      "Column Name:  year_built \n",
      "--------------\n",
      "Categorical:\n",
      " -  137 Categories\n",
      "\n",
      " 1955.0    1956\n",
      "1989.0    1786\n",
      "1950.0    1663\n",
      "1964.0    1611\n",
      "1954.0    1580\n",
      "          ... \n",
      "1866.0       1\n",
      "1824.0       1\n",
      "1882.0       1\n",
      "1894.0       1\n",
      "1880.0       1\n",
      "Name: year_built, Length: 137, dtype: int64\n",
      "\n",
      "\n",
      "-------------\n",
      "Column Name:  num_stories \n",
      "--------------\n",
      "Numerical: Divided by Quartile\n",
      " -  5 bins\n"
     ]
    },
    {
     "data": {
      "text/markdown": [
       "|              |   num_stories |\n",
       "|:-------------|--------------:|\n",
       "| (0.994, 2.0] |         16900 |\n",
       "| (2.0, 3.0]   |           435 |\n",
       "| (3.0, 4.0]   |             0 |\n",
       "| (4.0, 5.0]   |             0 |\n",
       "| (5.0, 6.0]   |             1 |"
      ],
      "text/plain": [
       "<IPython.core.display.Markdown object>"
      ]
     },
     "metadata": {},
     "output_type": "display_data"
    },
    {
     "name": "stdout",
     "output_type": "stream",
     "text": [
      "\n",
      "\n",
      "-------------\n",
      "Column Name:  fireplace_flag \n",
      "--------------\n",
      "Numerical: Divided by Quartile\n",
      " -  5 bins\n"
     ]
    },
    {
     "data": {
      "text/markdown": [
       "|                  |   fireplace_flag |\n",
       "|:-----------------|-----------------:|\n",
       "| (0.9989, 0.9994] |                0 |\n",
       "| (0.9994, 0.9998] |                0 |\n",
       "| (0.9998, 1.0002] |              172 |\n",
       "| (1.0002, 1.0006] |                0 |\n",
       "| (1.0006, 1.001]  |                0 |"
      ],
      "text/plain": [
       "<IPython.core.display.Markdown object>"
      ]
     },
     "metadata": {},
     "output_type": "display_data"
    },
    {
     "name": "stdout",
     "output_type": "stream",
     "text": [
      "\n",
      "\n",
      "-------------\n",
      "Column Name:  building_tax_value \n",
      "--------------\n",
      "Numerical: Divided by Quartile\n",
      " -  5 bins\n"
     ]
    },
    {
     "data": {
      "text/markdown": [
       "|                        |   building_tax_value |\n",
       "|:-----------------------|---------------------:|\n",
       "| (-9120.858, 1833015.4] |                76265 |\n",
       "| (1833015.4, 3665986.8] |                  147 |\n",
       "| (3665986.8, 5498958.2] |                   16 |\n",
       "| (5498958.2, 7331929.6] |                    4 |\n",
       "| (7331929.6, 9164901.0] |                    5 |"
      ],
      "text/plain": [
       "<IPython.core.display.Markdown object>"
      ]
     },
     "metadata": {},
     "output_type": "display_data"
    },
    {
     "name": "stdout",
     "output_type": "stream",
     "text": [
      "\n",
      "\n",
      "-------------\n",
      "Column Name:  tax_value \n",
      "--------------\n",
      "Numerical: Divided by Quartile\n",
      " -  5 bins\n"
     ]
    },
    {
     "data": {
      "text/markdown": [
       "|                                  |   tax_value |\n",
       "|:---------------------------------|------------:|\n",
       "| (-48060.236999999994, 9813047.2] |       76483 |\n",
       "| (9813047.2, 19625094.4]          |          32 |\n",
       "| (19625094.4, 29437141.6]         |           5 |\n",
       "| (29437141.6, 39249188.8]         |           0 |\n",
       "| (39249188.8, 49061236.0]         |           1 |"
      ],
      "text/plain": [
       "<IPython.core.display.Markdown object>"
      ]
     },
     "metadata": {},
     "output_type": "display_data"
    },
    {
     "name": "stdout",
     "output_type": "stream",
     "text": [
      "\n",
      "\n",
      "-------------\n",
      "Column Name:  year_assesed \n",
      "--------------\n",
      "Numerical: Divided by Quartile\n",
      " -  5 bins\n"
     ]
    },
    {
     "data": {
      "text/markdown": [
       "|                      |   year_assesed |\n",
       "|:---------------------|---------------:|\n",
       "| (2013.983, 2014.79]  |              0 |\n",
       "| (2014.79, 2015.597]  |              0 |\n",
       "| (2015.597, 2016.403] |          76521 |\n",
       "| (2016.403, 2017.21]  |              0 |\n",
       "| (2017.21, 2018.016]  |              0 |"
      ],
      "text/plain": [
       "<IPython.core.display.Markdown object>"
      ]
     },
     "metadata": {},
     "output_type": "display_data"
    },
    {
     "name": "stdout",
     "output_type": "stream",
     "text": [
      "\n",
      "\n",
      "-------------\n",
      "Column Name:  land_tax_value \n",
      "--------------\n",
      "Numerical: Divided by Quartile\n",
      " -  5 bins\n"
     ]
    },
    {
     "data": {
      "text/markdown": [
       "|                                 |   land_tax_value |\n",
       "|:--------------------------------|-----------------:|\n",
       "| (-48791.03799999999, 9790568.4] |            76500 |\n",
       "| (9790568.4, 19580975.8]         |               19 |\n",
       "| (19580975.8, 29371383.2]        |                1 |\n",
       "| (29371383.2, 39161790.6]        |                0 |\n",
       "| (39161790.6, 48952198.0]        |                1 |"
      ],
      "text/plain": [
       "<IPython.core.display.Markdown object>"
      ]
     },
     "metadata": {},
     "output_type": "display_data"
    },
    {
     "name": "stdout",
     "output_type": "stream",
     "text": [
      "\n",
      "\n",
      "-------------\n",
      "Column Name:  tax_amount \n",
      "--------------\n",
      "Numerical: Divided by Quartile\n",
      " -  5 bins\n"
     ]
    },
    {
     "data": {
      "text/markdown": [
       "|                                  |   tax_amount |\n",
       "|:---------------------------------|-------------:|\n",
       "| (-566.6999999999999, 117343.796] |        76482 |\n",
       "| (117343.796, 234667.672]         |           29 |\n",
       "| (234667.672, 351991.548]         |            4 |\n",
       "| (351991.548, 469315.424]         |            0 |\n",
       "| (469315.424, 586639.3]           |            1 |"
      ],
      "text/plain": [
       "<IPython.core.display.Markdown object>"
      ]
     },
     "metadata": {},
     "output_type": "display_data"
    },
    {
     "name": "stdout",
     "output_type": "stream",
     "text": [
      "\n",
      "\n",
      "-------------\n",
      "Column Name:  tax_delinquency_flag \n",
      "--------------\n",
      "Categorical:\n",
      " -  2 Categories\n"
     ]
    },
    {
     "data": {
      "text/markdown": [
       "|    |   tax_delinquency_flag |\n",
       "|:---|-----------------------:|\n",
       "|    |                  73669 |\n",
       "| Y  |                   2852 |"
      ],
      "text/plain": [
       "<IPython.core.display.Markdown object>"
      ]
     },
     "metadata": {},
     "output_type": "display_data"
    },
    {
     "name": "stdout",
     "output_type": "stream",
     "text": [
      "\n",
      "\n",
      "-------------\n",
      "Column Name:  tax_delinquency_year \n",
      "--------------\n",
      "Numerical: Divided by Quartile\n",
      " -  5 bins\n"
     ]
    },
    {
     "data": {
      "text/markdown": [
       "|               |   tax_delinquency_year |\n",
       "|:--------------|-----------------------:|\n",
       "| (2.903, 22.2] |                   2851 |\n",
       "| (22.2, 41.4]  |                      0 |\n",
       "| (41.4, 60.6]  |                      0 |\n",
       "| (60.6, 79.8]  |                      0 |\n",
       "| (79.8, 99.0]  |                      1 |"
      ],
      "text/plain": [
       "<IPython.core.display.Markdown object>"
      ]
     },
     "metadata": {},
     "output_type": "display_data"
    },
    {
     "name": "stdout",
     "output_type": "stream",
     "text": [
      "\n",
      "\n",
      "-------------\n",
      "Column Name:  tract_and_block \n",
      "--------------\n",
      "Numerical: Divided by Quartile\n",
      " -  5 bins\n"
     ]
    },
    {
     "data": {
      "text/markdown": [
       "|                                         |   tract_and_block |\n",
       "|:----------------------------------------|------------------:|\n",
       "| (59948352007016.984, 144902829897603.0] |             76300 |\n",
       "| (144902829897603.0, 229434648694206.03] |                 0 |\n",
       "| (229434648694206.03, 313966467490809.0] |                 0 |\n",
       "| (313966467490809.0, 398498286287411.94] |                 0 |\n",
       "| (398498286287411.94, 483030105084015.0] |                 1 |"
      ],
      "text/plain": [
       "<IPython.core.display.Markdown object>"
      ]
     },
     "metadata": {},
     "output_type": "display_data"
    },
    {
     "name": "stdout",
     "output_type": "stream",
     "text": [
      "\n",
      "\n",
      "-------------\n",
      "-----------------\n",
      "---End of Line---\n"
     ]
    }
   ],
   "source": [
    "summarize(df,too_long=15, q=5)"
   ]
  },
  {
   "cell_type": "markdown",
   "id": "19daa53b",
   "metadata": {},
   "source": [
    "<!-- df.tract_and_block.max()\n",
    "\n",
    "df = df.drop(index= df[df.tract_and_block == df.tract_and_block.max()].index)\n",
    "\n",
    "df = df.drop(index= df[df.zip_code == df.zip_code.max()].index)\n",
    "\n",
    "df = df.drop(index= df[df.parcel == df.parcel.max()].index)\n",
    "\n",
    "df = df.drop(index= df[df.parcel == df.parcel.max()].index)\n",
    "\n",
    "df = df.drop(index= df[df.parcel == df.parcel.max()].index)\n",
    "\n",
    "print(len(df))\n",
    "df = df.drop(index= df[df.parcel == df.parcel.max()].index)\n",
    "# print(len(df.drop(index= df[df.parcel == df.parcel.max()].index)))\n",
    "print(len(df))\n",
    "\n",
    "print(len(df))\n",
    "df = df.drop(index= df[df.parcel == df.parcel.max()].index)\n",
    "# print(len(df.drop(index= df[df.parcel == df.parcel.max()].index)))\n",
    "print(len(df))\n",
    "\n",
    "df.isnull().sum(axis=0) -->"
   ]
  },
  {
   "cell_type": "markdown",
   "id": "a9917ec3",
   "metadata": {},
   "source": [
    "<!-- df = df.drop(columns= ['heat_type', 'quality_type', 'zoning'])\n",
    "\n",
    "df[df.isnull().sum(axis=1) == 1]\n",
    "\n",
    "df = df.drop(index= df[df.isnull().sum(axis=1) == 1].index) -->"
   ]
  },
  {
   "cell_type": "markdown",
   "id": "ecb0b8bd",
   "metadata": {},
   "source": [
    "<!-- df.full_baths.value_counts()\n",
    "\n",
    "df.full_baths = df.full_baths.map({1:'_1_',\n",
    "                   2:'_2_',\n",
    "                   3:'_3_',\n",
    "                   4:'_4_'\n",
    "                  })\n",
    "\n",
    "df[df.full_baths != df.bathrooms]\n",
    "\n",
    "df[['full_baths', 'bathrooms']][df.full_baths != df.bathrooms]\n",
    "\n",
    "df['half_baths'] = 0\n",
    "\n",
    "for i in df[df.full_baths != df.bathrooms].index:\n",
    "#     print(i)\n",
    "    df.half_baths[i] += 1\n",
    "    \n",
    "df.half_baths.value_counts() -->"
   ]
  },
  {
   "cell_type": "markdown",
   "id": "c8663fef-a94f-4aaf-8229-79bd8093af3f",
   "metadata": {},
   "source": [
    "# Let's start by dropping garages, their sqft, and the sqft_12 because it's the same as sqft"
   ]
  },
  {
   "cell_type": "code",
   "execution_count": 4,
   "id": "0e5bdbbb",
   "metadata": {},
   "outputs": [],
   "source": [
    "df = df.drop(columns= ['garages', 'garage_sqft', 'sqft_12'])"
   ]
  },
  {
   "cell_type": "markdown",
   "id": "67ca9c11-2d2e-4262-b53a-ee696fb74890",
   "metadata": {},
   "source": [
    "## Some of the columns are going to have outliers we want to get rid of\n",
    "- Let's set these to columns"
   ]
  },
  {
   "cell_type": "code",
   "execution_count": 6,
   "id": "c3e539eb-dd7f-4df6-9433-10eab28adedd",
   "metadata": {},
   "outputs": [],
   "source": [
    "outlier_cols = ['bathrooms',\n",
    "        'bedrooms',\n",
    "        'tot_sqft',\n",
    "        'fireplaces',\n",
    "        'full_baths',\n",
    "        'lot_sqft',\n",
    "        'tax_value',\n",
    "        'land_tax_value',\n",
    "        ]"
   ]
  },
  {
   "cell_type": "markdown",
   "id": "a13f94ca-6cbc-4fe6-ad43-6ee0737b721e",
   "metadata": {},
   "source": [
    "## Let's make a function to restrict our data to Single Family Homes"
   ]
  },
  {
   "cell_type": "code",
   "execution_count": 7,
   "id": "3d715a0f-e019-47a6-a767-28a05f2137c4",
   "metadata": {},
   "outputs": [],
   "source": [
    "def SFR(df):\n",
    "    '''\n",
    "    Takes in a DataFrame from the zillow dataset \n",
    "    and returns only the Single family residential properties\n",
    "    aslo as a DataFrame\n",
    "    '''\n",
    "#     Set Land Use to only SFR and ditch the stories differences\n",
    "    sfr = df[df.land_use_type == 'Single Family Residential']\n",
    "    sfr = sfr[sfr.stories_type != 7]\n",
    "#     Any multi unit more than 1 is gone\n",
    "#     Set it\n",
    "    multi_unit = sfr[sfr.units > 1]\n",
    "#     And forget it\n",
    "    sfr = sfr.drop(index=multi_unit.index)\n",
    "    \n",
    "    return sfr\n"
   ]
  },
  {
   "cell_type": "code",
   "execution_count": 8,
   "id": "0624aaa9-c62e-439a-aca1-aaa041c3ef0e",
   "metadata": {},
   "outputs": [],
   "source": [
    "df = SFR(df)\n",
    "        "
   ]
  },
  {
   "cell_type": "code",
   "execution_count": 10,
   "id": "4836b8d0-31c3-4c7e-bfd1-d28683993a3f",
   "metadata": {},
   "outputs": [],
   "source": [
    "# Set the cols to outlier_cols \n",
    "cols = outlier_cols"
   ]
  },
  {
   "cell_type": "code",
   "execution_count": 11,
   "id": "45cb130f-a792-4b8b-a41b-7935e1ad7423",
   "metadata": {},
   "outputs": [],
   "source": [
    "def remove_outliers(df, k=1.5, col_list=[]):\n",
    "    ''' \n",
    "    Removes outliers from a list of columns in a dataframe \n",
    "    and return that dataframe\n",
    "    \n",
    "    PARAMETERS:\n",
    "    ------------\n",
    "    \n",
    "    df    :   DataFrame that you want outliers removed from\n",
    "    \n",
    "    k     :   The scaler of IQR you want to use for tromming outliers\n",
    "                 k = 1.5 gives a 8σ total range\n",
    "    col_list : The columns to have outliers removed using\n",
    "    '''\n",
    "    # Create a column that will label our rows as containing an outlier value or not\n",
    "    num_obs = df.shape[0]\n",
    "    df['outlier'] = False\n",
    "    for col in col_list:\n",
    "\n",
    "        q1, q3 = df[col].quantile([.25, .75])  # get quartiles\n",
    "        \n",
    "        iqr = q3 - q1   # calculate interquartile range\n",
    "        \n",
    "        upper_bound = q3 + k * iqr   # get upper bound\n",
    "        lower_bound = q1 - k * iqr   # get lower bound\n",
    "\n",
    "        # update the outlier label any time that the value is outside of boundaries\n",
    "        df['outlier'] = np.where(((df[col] < lower_bound) | (df[col] > upper_bound)) & (df.outlier == False), True, df.outlier)\n",
    "    \n",
    "    df = df[df.outlier == False]\n",
    "    df = df.drop(columns=['outlier'])\n",
    "    print(f\"Number of observations removed: {num_obs - df.shape[0]}\")\n",
    "        \n",
    "    return df"
   ]
  },
  {
   "cell_type": "code",
   "execution_count": 12,
   "id": "b9adb68c-c2fc-4563-b29c-2503dca3eee6",
   "metadata": {},
   "outputs": [
    {
     "name": "stdout",
     "output_type": "stream",
     "text": [
      "Number of observations removed: 9964\n"
     ]
    }
   ],
   "source": [
    "# Use remove_outliers\n",
    "df = remove_outliers(df, 1.5, cols)"
   ]
  },
  {
   "cell_type": "code",
   "execution_count": 14,
   "id": "63d1f954-0cb5-45bc-b135-1dc8e218adc3",
   "metadata": {},
   "outputs": [],
   "source": [
    "# fillna(0)\n",
    "\n",
    "df.hot_tub = df.hot_tub.fillna(0)\n",
    "\n",
    "df.pools = df.pools.fillna(0)\n",
    "\n",
    "df.tax_delinquency_flag = df.tax_delinquency_flag.map({'Y':1}).fillna(0)"
   ]
  },
  {
   "cell_type": "code",
   "execution_count": null,
   "id": "e493bc94-f0b2-4331-ab0f-a937302fed19",
   "metadata": {},
   "outputs": [],
   "source": [
    "def handle_missing_values(df,\n",
    "                          prop_req_cols = .5,\n",
    "                          prop_req_rows = .75\n",
    "                         ):\n",
    "    threshold = int(round(prop_req_cols * len(df.index), 0))\n",
    "    df = df.dropna(axis=1, thresh= threshold)\n",
    "    threshold= int(round(prop_req_rows * len(df.columns), 0))\n",
    "    df = df.dropna(axis=0, thresh = threshold)\n",
    "    return df\n"
   ]
  },
  {
   "cell_type": "code",
   "execution_count": null,
   "id": "6ddedd61-ce87-4f67-ba9e-a71853b99e08",
   "metadata": {},
   "outputs": [],
   "source": [
    "# \n",
    "\n",
    "df= handle_missing_values(df)"
   ]
  },
  {
   "cell_type": "code",
   "execution_count": null,
   "id": "b1d2ab79-c64f-4cc5-8d35-78e3b2110cf6",
   "metadata": {},
   "outputs": [],
   "source": [
    "# \n",
    "\n",
    "df.bedrooms = df.bedrooms.map({2: '_2_',\n",
    "            3: '_3_',\n",
    "            4: '_4_',\n",
    "            5: '_5_'\n",
    "            })\n",
    "\n",
    "df.bathrooms = pd.cut(df.bathrooms,\n",
    "                bins = (0,1,2,3,4,5), \n",
    "                labels=('_1_', '_2_', '_3_', '_4_', '_5_')\n",
    "                )\n",
    "\n",
    "df.bathrooms = df.bathrooms.astype('O')"
   ]
  },
  {
   "cell_type": "code",
   "execution_count": null,
   "id": "6d33ce2c-d0ab-421d-bed0-26ac4e8def0b",
   "metadata": {},
   "outputs": [],
   "source": [
    "# \n",
    "\n",
    "df = df.drop(columns= ['units', 'year_assesed', 'land_use_type', 'county_id'])"
   ]
  },
  {
   "cell_type": "code",
   "execution_count": null,
   "id": "98bc614c-1c41-4c5c-b2fa-116f33f22127",
   "metadata": {},
   "outputs": [],
   "source": [
    "# Reset the index\n",
    "\n",
    "df = df.reset_index()"
   ]
  },
  {
   "cell_type": "code",
   "execution_count": null,
   "id": "303122b5-7782-4759-aa24-b595cc8d9674",
   "metadata": {},
   "outputs": [],
   "source": [
    "# drop the resulting 'index' column\n",
    "\n",
    "df = df.drop(columns='index')"
   ]
  },
  {
   "cell_type": "code",
   "execution_count": null,
   "id": "8ad10315-817e-47c6-a089-1e7a1d07d1de",
   "metadata": {},
   "outputs": [],
   "source": [
    "# \n",
    "\n",
    "df.zip_code[19709] = 99675"
   ]
  },
  {
   "cell_type": "code",
   "execution_count": null,
   "id": "de8daefe-8bcb-4de7-a9cf-c860c6bba303",
   "metadata": {},
   "outputs": [],
   "source": [
    "# \n",
    "\n",
    "df = df.drop(index= df[df.zip_code.isnull()].index)\n",
    "\n",
    "df = df.drop(index= df[df.city_id.isnull()].index)"
   ]
  },
  {
   "cell_type": "code",
   "execution_count": null,
   "id": "a19e0723-ddd6-4e06-8128-b800e67beef2",
   "metadata": {},
   "outputs": [],
   "source": [
    "# \n",
    "\n",
    "df = df.drop(columns= ['heat_type', 'quality_type', 'zoning'])"
   ]
  },
  {
   "cell_type": "code",
   "execution_count": null,
   "id": "cc0f4143-7c60-45ea-934d-fb04378b9970",
   "metadata": {},
   "outputs": [],
   "source": [
    "# \n",
    "\n",
    "df = df.drop(index= df[df.isnull().sum(axis=1) > 0].index)\n",
    "\n",
    "df = df.drop(index= df[df.tract_and_block == df.tract_and_block.max()].index)\n",
    "\n",
    "df = df.drop(index= df[df.zip_code == df.zip_code.max()].index)\n",
    "\n",
    "df = df.drop(index= df[df.parcel == df.parcel.max()].index)\n",
    "\n",
    "df = df.drop(index= df[df.parcel == df.parcel.max()].index)\n",
    "\n",
    "df = df.drop(index= df[df.parcel == df.parcel.max()].index)"
   ]
  },
  {
   "cell_type": "code",
   "execution_count": null,
   "id": "a8b7487e-52bd-45a2-a170-59402fe56a96",
   "metadata": {},
   "outputs": [],
   "source": [
    "# \n",
    "\n",
    "df.full_baths = df.full_baths.map({1:'_1_',\n",
    "            2:'_2_',\n",
    "            3:'_3_',\n",
    "            4:'_4_'\n",
    "            })\n",
    "\n",
    "df['half_baths'] = 0\n",
    "\n",
    "for i in df[df.full_baths != df.bathrooms].index:\n",
    "#     print(i)\n",
    "    df.half_baths[i] += 1\n",
    "\n",
    "df = df.drop(columns= 'full_baths')"
   ]
  },
  {
   "cell_type": "code",
   "execution_count": null,
   "id": "63aff9c8-a7b3-4e47-909f-d0926beef306",
   "metadata": {},
   "outputs": [],
   "source": [
    "# Reset the index\n",
    "df = df.reset_index()\n",
    "\n",
    "df['house_age'] = (df.year_built.astype('int')-2017)*-1\n",
    "\n",
    "# drop the resulting 'index' column\n",
    "df = df.drop(columns=['index',\n",
    "                     'calc_bath_n_bed',\n",
    "                     'year_built',\n",
    "                     'num_rooms',\n",
    "                     'trans_date'])"
   ]
  },
  {
   "cell_type": "code",
   "execution_count": null,
   "id": "2cd6f0c2-41c4-43fa-834a-c772e50f6d3f",
   "metadata": {},
   "outputs": [],
   "source": [
    "# \n",
    "\n",
    "df.tax_delinquency_flag = df.tax_delinquency_flag.astype('int')\n",
    "df.tract_and_block = df.tract_and_block.astype('int').astype('str').str[4:].astype('int')\n",
    "df.pools = df.pools.astype('int')\n",
    "df.city_id = df.city_id.astype('int').astype('str')\n",
    "df.zip_code = df.zip_code.astype('int').astype('str')"
   ]
  },
  {
   "cell_type": "code",
   "execution_count": null,
   "id": "eb0154d4-4d9b-4262-b466-d8b4b59a17f3",
   "metadata": {},
   "outputs": [],
   "source": [
    "# \n",
    "\n",
    "df['rsle'] = df.logerror.abs()\n",
    "\n",
    "summarize(df)"
   ]
  },
  {
   "cell_type": "markdown",
   "id": "17f9971b",
   "metadata": {},
   "source": [
    "# FINAL CELL\n",
    "<br><br><br><br><br><br><br><br><br><br><br><br><br><br><br><br><br><br><br><br><br><br><br><br><br><br><br><br><br><br><br><br><br><br><br><br><br><br><br><br><br><br><br><br><br><br><br><br><br><br><br><br><br><br><br><br>"
   ]
  }
 ],
 "metadata": {
  "kernelspec": {
   "display_name": "Python 3 (ipykernel)",
   "language": "python",
   "name": "python3"
  },
  "language_info": {
   "codemirror_mode": {
    "name": "ipython",
    "version": 3
   },
   "file_extension": ".py",
   "mimetype": "text/x-python",
   "name": "python",
   "nbconvert_exporter": "python",
   "pygments_lexer": "ipython3",
   "version": "3.9.12"
  }
 },
 "nbformat": 4,
 "nbformat_minor": 5
}
